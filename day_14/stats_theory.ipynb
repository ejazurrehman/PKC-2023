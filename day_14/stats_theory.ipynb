{
 "cells": [
  {
   "cell_type": "markdown",
   "metadata": {},
   "source": [
    "# Statistics (Theroy) in Python\n",
    "written by: Ejaz ur Rehman\\\n",
    "date: 2025-03-05\\\n",
    "email: ijazfinance@gmail.com"
   ]
  },
  {
   "cell_type": "markdown",
   "metadata": {},
   "source": [
    "### 1. What is the Data?\n",
    "In statistics, data refers to a collection of facts, observations, or measurements gathered for analysis. It represents values assigned to variables and can be used to draw conclusions, make predictions, or identify patterns."
   ]
  },
  {
   "cell_type": "markdown",
   "metadata": {},
   "source": [
    "### 2 What is information?\n",
    "In the context of statistics, information refers to the meaningful insights or knowledge derived from analyzing data. While data consists of raw numbers, facts, or observations, information is the processed and interpreted result that helps in decision-making, problem-solving, or prediction."
   ]
  },
  {
   "cell_type": "markdown",
   "metadata": {},
   "source": [
    "### 3 What is Statistics?\n",
    "Statistics is the science of collecting, analyzing, interpreting, presenting, and organizing data. It involves the use of mathematical techniques to summarize and describe data, as well as to make inferences and predictions about a population based on a sample of data.\n",
    "a. The science of uncertainity\n",
    "b. Tow fundamental ideas in the field of satistics are:\n",
    "    1. uncertainity\n",
    "    2. variation"
   ]
  },
  {
   "cell_type": "markdown",
   "metadata": {},
   "source": [
    "#### 3.1 What is Descriptive Statistics:\n",
    "Descriptive statistics is a branch of statistics that involves organizing, summarizing, and presenting data in a meaningful way. It helps in understanding patterns and trends without making predictions or inferences about a larger population.\n",
    "\n",
    "Key Components of Descriptive Statistics:\n",
    "Measures of Central Tendency – These summarize the center of a dataset.\n",
    "\n",
    "Mean (Average) = Sum of all values ÷ Total number of values\n",
    "Median = Middle value when data is arranged in order\n",
    "Mode = Most frequently occurring value\n",
    "Measures of Dispersion (Spread) – These indicate the variability in data.\n",
    "\n",
    "Range = Difference between the highest and lowest values\n",
    "Variance = Average squared deviation from the mean\n",
    "Standard Deviation (SD) = Square root of variance; shows how spread out the data is\n",
    "Frequency Distribution – Displays how often each value appears.\n",
    "\n",
    "Tables (e.g., frequency tables)\n",
    "Graphs & Charts (e.g., histograms, bar charts, pie charts)\n",
    "Measures of Shape – These describe the distribution of data.\n",
    "\n",
    "Skewness = Measures asymmetry (left-skewed, right-skewed, or symmetrical)\n",
    "Kurtosis = Measures how peaked or flat the data distribution is\n",
    "Descriptive statistics is commonly used in research, business, economics, and social sciences to summarize and present data effectively."
   ]
  },
  {
   "cell_type": "markdown",
   "metadata": {},
   "source": [
    "#### 3.2 What is Inferential Statistics:\n",
    "Inferential statistics is a branch of statistics that allows us to make predictions, generalizations, or conclusions about a larger population based on a sample of data. It goes beyond merely describing data (as in descriptive statistics) and helps in making evidence-based decisions.\n",
    "\n",
    "Key Features of Inferential Statistics:\n",
    "Uses a Sample to Draw Conclusions About a Population\n",
    "\n",
    "Since collecting data from an entire population is often impractical, inferential statistics helps estimate population parameters using sample data.\n",
    "Involves Probability Theory\n",
    "\n",
    "It uses probability to determine how likely it is that findings from the sample apply to the population.\n",
    "Includes Hypothesis Testing and Estimation\n",
    "\n",
    "Tests assumptions about population characteristics.\n",
    "Types of Inferential Statistics:\n",
    "1. Estimation (Confidence Intervals)\n",
    "Used to estimate population parameters (e.g., mean, proportion) based on sample data.\n",
    "Example: If the average height of 100 students is 170 cm, we might estimate that the height of all students in the school falls between 168 cm and 172 cm (with a 95% confidence level).\n",
    "2. Hypothesis Testing\n",
    "Used to test assumptions or claims about a population.\n",
    "Example: A company claims that its new diet plan helps in weight loss. Hypothesis testing determines if sample data supports this claim.\n",
    "Common hypothesis tests include:\n",
    "\n",
    "t-Test (Compares means of two groups)\n",
    "Chi-Square Test (Checks relationships between categorical variables)\n",
    "ANOVA (Analysis of Variance) (Compares means of multiple groups)\n",
    "3. Regression Analysis\n",
    "Examines relationships between variables and makes predictions.\n",
    "Example: Predicting sales based on advertising budget.\n",
    "4. Correlation Analysis\n",
    "Measures the strength and direction of a relationship between two variables.\n",
    "Example: Checking if studying hours and exam scores are positively related.\n",
    "\n",
    "Example of Inferential Statistics:\n",
    "A researcher surveys 500 students in a university about their study habits. Instead of surveying all 20,000 students, inferential statistics allows the researcher to generalize results to the entire student population using confidence intervals and hypothesis testing."
   ]
  },
  {
   "cell_type": "markdown",
   "metadata": {},
   "source": [
    "### 4. Planning Phase\n",
    "    1. Purpose of the data - Insight, Explore, - Result, Inferential\n",
    "    2. Populatin vs Sample\n",
    "    3. Observational Study vs Experimental Study\n",
    "\n",
    "2. Populaiton Vs Sample:\n",
    "In statistics, population and sample are two fundamental concepts used in data collection and analysis. Understanding their differences is crucial when interpreting statistical results.\n",
    "   1. Population\n",
    "A population refers to the entire group of individuals, items, or observations that a researcher is interested in studying.\n",
    "\n",
    "Key Characteristics:\\\n",
    "Includes all possible data points.\\\n",
    "Can be finite (e.g., all students in a school) or infinite (e.g., all possible outcomes of rolling a die).\\\n",
    "Population parameters (like mean, standard deviation) are usually unknown and must be estimated.\\\n",
    "Examples of Population:\n",
    "All voters in a country.\n",
    "All employees in a company.\n",
    "All manufactured products in a factory.\n",
    "\n",
    "   2. Sample\n",
    "A sample is a subset of the population selected for analysis. Since studying an entire population is often impractical, researchers collect data from a sample and make inferences about the population.\n",
    "\n",
    "Key Characteristics:\n",
    "Smaller, manageable portion of the population.\\\n",
    "Used to estimate population characteristics.\\\n",
    "Should be randomly selected to avoid bias.\\\n",
    "Examples of Sample:\n",
    "1,000 randomly selected voters from a country.\n",
    "200 employees surveyed from a company.\n",
    "100 products tested for quality from a production batch.\n",
    "\n",
    "\n",
    "3. Observational Study Vs Experimental Study:\n",
    "   In statistics and research, both observational studies and experimental studies are used to analyze relationships between variables, but they differ in how data is collected and controlled.\n",
    "   1. Observational Study\\\n",
    "✅ Definition: Researchers observe subjects without interfering or assigning treatments.\\\n",
    "✅ Key Feature: No manipulation of variables; researchers simply collect and analyze data as it naturally occurs.\\\n",
    "✅ Example: Studying the link between smoking and lung cancer by observing smokers and non-smokers over time.\n",
    "\n",
    "   1. Experimental Study\\\n",
    "✅ Definition: Researchers actively manipulate one or more variables to study their effects on a dependent variable.\\\n",
    "✅ Key Feature: Uses control and treatment groups, randomization, and controlled conditions.\\\n",
    "✅ Example: Testing a new drug by randomly assigning participants to a treatment group (receiving the drug) and a control group (receiving a placebo)."
   ]
  }
 ],
 "metadata": {
  "language_info": {
   "name": "python"
  }
 },
 "nbformat": 4,
 "nbformat_minor": 2
}
