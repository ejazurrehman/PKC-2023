{
 "cells": [
  {
   "cell_type": "markdown",
   "id": "bd24a7eb",
   "metadata": {},
   "source": [
    "## Best Parameter Selection\n",
    "Author: Ejaz-ur-Rehman\\\n",
    "Date Created: 09-04-2025\\\n",
    "Email ID: ijazfinance@gmail.com"
   ]
  },
  {
   "cell_type": "markdown",
   "id": "f3ec22ba",
   "metadata": {},
   "source": [
    "#### How to get the parameters of the model?"
   ]
  },
  {
   "cell_type": "code",
   "execution_count": 17,
   "id": "2c914bce",
   "metadata": {},
   "outputs": [
    {
     "name": "stdout",
     "output_type": "stream",
     "text": [
      "{'copy_X': True, 'fit_intercept': True, 'n_jobs': None, 'positive': False}\n"
     ]
    }
   ],
   "source": [
    "from sklearn.linear_model import LinearRegression\n",
    "\n",
    "# create a logistic regression model\n",
    "model = LinearRegression()\n",
    "\n",
    "# get the parameter list\n",
    "print(model.get_params())"
   ]
  },
  {
   "cell_type": "code",
   "execution_count": 18,
   "id": "af9e61b8",
   "metadata": {},
   "outputs": [
    {
     "name": "stdout",
     "output_type": "stream",
     "text": [
      "{'bootstrap': True, 'ccp_alpha': 0.0, 'class_weight': None, 'criterion': 'gini', 'max_depth': None, 'max_features': 'sqrt', 'max_leaf_nodes': None, 'max_samples': None, 'min_impurity_decrease': 0.0, 'min_samples_leaf': 1, 'min_samples_split': 2, 'min_weight_fraction_leaf': 0.0, 'monotonic_cst': None, 'n_estimators': 100, 'n_jobs': None, 'oob_score': False, 'random_state': None, 'verbose': 0, 'warm_start': False}\n"
     ]
    }
   ],
   "source": [
    "from sklearn.ensemble import RandomForestClassifier\n",
    "\n",
    "# create a randomforest model\n",
    "model = RandomForestClassifier()\n",
    "\n",
    "# get the parameter list\n",
    "print(model.get_params())"
   ]
  },
  {
   "cell_type": "code",
   "execution_count": 19,
   "id": "afaf3c23",
   "metadata": {},
   "outputs": [
    {
     "name": "stdout",
     "output_type": "stream",
     "text": [
      "{'C': 1.0, 'break_ties': False, 'cache_size': 200, 'class_weight': None, 'coef0': 0.0, 'decision_function_shape': 'ovr', 'degree': 3, 'gamma': 'scale', 'kernel': 'rbf', 'max_iter': -1, 'probability': False, 'random_state': None, 'shrinking': True, 'tol': 0.001, 'verbose': False}\n"
     ]
    }
   ],
   "source": [
    "from sklearn.svm import SVC\n",
    "\n",
    "# create a svc model\n",
    "model = SVC()\n",
    "\n",
    "# get the parameter list\n",
    "print(model.get_params())"
   ]
  },
  {
   "cell_type": "code",
   "execution_count": 20,
   "id": "0f9efe57",
   "metadata": {},
   "outputs": [
    {
     "name": "stdout",
     "output_type": "stream",
     "text": [
      "{'ccp_alpha': 0.0, 'class_weight': None, 'criterion': 'gini', 'max_depth': None, 'max_features': None, 'max_leaf_nodes': None, 'min_impurity_decrease': 0.0, 'min_samples_leaf': 1, 'min_samples_split': 2, 'min_weight_fraction_leaf': 0.0, 'monotonic_cst': None, 'random_state': None, 'splitter': 'best'}\n"
     ]
    }
   ],
   "source": [
    "from sklearn.tree import DecisionTreeClassifier\n",
    "\n",
    "# create a model\n",
    "model = DecisionTreeClassifier()\n",
    "\n",
    "# get the parameter list\n",
    "print(model.get_params())"
   ]
  },
  {
   "cell_type": "code",
   "execution_count": 21,
   "id": "ebe71e05",
   "metadata": {},
   "outputs": [
    {
     "name": "stdout",
     "output_type": "stream",
     "text": [
      "{'algorithm': 'auto', 'leaf_size': 30, 'metric': 'minkowski', 'metric_params': None, 'n_jobs': None, 'n_neighbors': 5, 'p': 2, 'weights': 'uniform'}\n"
     ]
    }
   ],
   "source": [
    "from sklearn.neighbors import KNeighborsClassifier\n",
    "\n",
    "# create a model\n",
    "model = KNeighborsClassifier()\n",
    "\n",
    "# get the parameter list\n",
    "print(model.get_params())"
   ]
  },
  {
   "cell_type": "markdown",
   "id": "14be41be",
   "metadata": {},
   "source": [
    "#### Hyperparameter Tuning"
   ]
  },
  {
   "cell_type": "code",
   "execution_count": 22,
   "id": "0181d44f",
   "metadata": {},
   "outputs": [
    {
     "name": "stdout",
     "output_type": "stream",
     "text": [
      "Best Parameter {'fit_intercept': True}\n"
     ]
    },
    {
     "name": "stderr",
     "output_type": "stream",
     "text": [
      "C:\\Users\\DELL\\AppData\\Local\\Temp\\ipykernel_23204\\3304415851.py:8: FutureWarning: A value is trying to be set on a copy of a DataFrame or Series through chained assignment using an inplace method.\n",
      "The behavior will change in pandas 3.0. This inplace method will never work because the intermediate object on which we are setting values always behaves as a copy.\n",
      "\n",
      "For example, when doing 'df[col].method(value, inplace=True)', try using 'df.method({col: value}, inplace=True)' or df[col] = df[col].method(value) instead, to perform the operation inplace on the original object.\n",
      "\n",
      "\n",
      "  df['age'].fillna(df['age'].mean(), inplace=True)\n"
     ]
    }
   ],
   "source": [
    "import pandas as pd\n",
    "import seaborn as sns\n",
    "\n",
    "# Load the data\n",
    "df = sns.load_dataset ('titanic')\n",
    "\n",
    "# impute missing values with mean\n",
    "df['age'].fillna(df['age'].mean(), inplace=True)\n",
    "\n",
    "# define the feature and target\n",
    "X = df[['age']]\n",
    "y = df['fare']\n",
    "\n",
    "from sklearn.linear_model import LinearRegression\n",
    "from sklearn.model_selection import GridSearchCV\n",
    "\n",
    "# create a model\n",
    "model = LinearRegression()\n",
    "\n",
    "# define parameter grid\n",
    "param_grid = {'fit_intercept': [True, False]}\n",
    "\n",
    "# create object gridsearch cv\n",
    "grid_search = GridSearchCV (model, param_grid, cv = 5, scoring= 'r2')\n",
    "\n",
    "# train the model\n",
    "grid_search.fit (X, y)\n",
    "\n",
    "# print the best parameter\n",
    "print (\"Best Parameter\", grid_search.best_params_)"
   ]
  },
  {
   "cell_type": "code",
   "execution_count": 23,
   "id": "f57860ae",
   "metadata": {},
   "outputs": [
    {
     "data": {
      "text/plain": [
       "Index(['survived', 'pclass', 'sex', 'age', 'sibsp', 'parch', 'fare',\n",
       "       'embarked', 'class', 'who', 'adult_male', 'deck', 'embark_town',\n",
       "       'alive', 'alone'],\n",
       "      dtype='object')"
      ]
     },
     "execution_count": 23,
     "metadata": {},
     "output_type": "execute_result"
    }
   ],
   "source": [
    "df.columns"
   ]
  },
  {
   "cell_type": "markdown",
   "id": "5d9caaf7",
   "metadata": {},
   "source": [
    "#### KNN Grid Search CV"
   ]
  },
  {
   "cell_type": "code",
   "execution_count": 36,
   "id": "69438722",
   "metadata": {},
   "outputs": [
    {
     "name": "stderr",
     "output_type": "stream",
     "text": [
      "C:\\Users\\DELL\\AppData\\Local\\Temp\\ipykernel_23204\\967263721.py:18: FutureWarning: A value is trying to be set on a copy of a DataFrame or Series through chained assignment using an inplace method.\n",
      "The behavior will change in pandas 3.0. This inplace method will never work because the intermediate object on which we are setting values always behaves as a copy.\n",
      "\n",
      "For example, when doing 'df[col].method(value, inplace=True)', try using 'df.method({col: value}, inplace=True)' or df[col] = df[col].method(value) instead, to perform the operation inplace on the original object.\n",
      "\n",
      "\n",
      "  X['age'].fillna(X['age'].mean(), inplace=True)\n"
     ]
    },
    {
     "name": "stdout",
     "output_type": "stream",
     "text": [
      "Best Parameter: {'n_neighbors': np.int64(7), 'weights': 'distance'}\n",
      "Best Score: 0.6088968990648542\n"
     ]
    }
   ],
   "source": [
    "import pandas as pd\n",
    "import seaborn as sns\n",
    "import numpy as np\n",
    "from sklearn.neighbors import KNeighborsClassifier\n",
    "from sklearn.model_selection import GridSearchCV\n",
    "\n",
    "# Load the data\n",
    "df = sns.load_dataset('titanic')\n",
    "\n",
    "# Define features and target\n",
    "X = df[['pclass', 'sex', 'age', 'sibsp', 'parch', 'fare']]\n",
    "y = df['survived']\n",
    "\n",
    "# One-hot encode the 'sex' column\n",
    "X = pd.get_dummies(X, columns=['sex'], drop_first=True)\n",
    "\n",
    "# Impute missing values in 'age' with the mean\n",
    "X['age'].fillna(X['age'].mean(), inplace=True)\n",
    "\n",
    "# Create a KNN model\n",
    "model = KNeighborsClassifier()\n",
    "\n",
    "# Define parameter grid\n",
    "param_grid = {'n_neighbors': np.arange(1,200,2), 'weights': ['uniform', 'distance']}\n",
    "\n",
    "# Create GridSearchCV object\n",
    "grid_search = GridSearchCV(model, param_grid, cv=5, scoring='f1')\n",
    "\n",
    "# Train the model\n",
    "grid_search.fit(X, y)\n",
    "\n",
    "# Print the best parameter and best score\n",
    "print(\"Best Parameter:\", grid_search.best_params_)\n",
    "print(\"Best Score:\", grid_search.best_score_)\n"
   ]
  },
  {
   "cell_type": "code",
   "execution_count": 39,
   "id": "5466afb0",
   "metadata": {},
   "outputs": [
    {
     "name": "stderr",
     "output_type": "stream",
     "text": [
      "C:\\Users\\DELL\\AppData\\Local\\Temp\\ipykernel_23204\\2259487840.py:19: FutureWarning: A value is trying to be set on a copy of a DataFrame or Series through chained assignment using an inplace method.\n",
      "The behavior will change in pandas 3.0. This inplace method will never work because the intermediate object on which we are setting values always behaves as a copy.\n",
      "\n",
      "For example, when doing 'df[col].method(value, inplace=True)', try using 'df.method({col: value}, inplace=True)' or df[col] = df[col].method(value) instead, to perform the operation inplace on the original object.\n",
      "\n",
      "\n",
      "  X['age'].fillna(X['age'].mean(), inplace=True)\n"
     ]
    },
    {
     "name": "stdout",
     "output_type": "stream",
     "text": [
      "Best Parameter: {'n_neighbors': 5 , 'weights': 'uniform'}\n",
      "Best Score: 0.7507198053212442\n"
     ]
    }
   ],
   "source": [
    "import pandas as pd\n",
    "import seaborn as sns\n",
    "import numpy as np\n",
    "from sklearn.neighbors import KNeighborsClassifier\n",
    "from sklearn.model_selection import GridSearchCV\n",
    "from sklearn.preprocessing import StandardScaler\n",
    "\n",
    "# Load the data\n",
    "df = sns.load_dataset('titanic')\n",
    "\n",
    "# Define features and target\n",
    "X = df[['pclass', 'sex', 'age', 'sibsp', 'parch', 'fare']]\n",
    "y = df['survived']\n",
    "\n",
    "# One-hot encode the 'sex' column\n",
    "X = pd.get_dummies(X, columns=['sex'], drop_first=True)\n",
    "\n",
    "# Impute missing values in 'age' with the mean\n",
    "X['age'].fillna(X['age'].mean(), inplace=True)\n",
    "\n",
    "# Scale features\n",
    "scaler = StandardScaler()\n",
    "X_scaled = scaler.fit_transform(X)\n",
    "\n",
    "# Create a KNN model\n",
    "model = KNeighborsClassifier()\n",
    "\n",
    "# Define parameter grid\n",
    "param_grid = {\n",
    "    'n_neighbors': np.arange(1, 45, 2),\n",
    "    'weights': ['uniform', 'distance']\n",
    "}\n",
    "\n",
    "# Create GridSearchCV object\n",
    "grid_search = GridSearchCV(model, param_grid, cv=5, scoring='f1')\n",
    "\n",
    "# Train the model\n",
    "grid_search.fit(X_scaled, y)\n",
    "\n",
    "# Print the best parameter and best score\n",
    "best_k = int(grid_search.best_params_['n_neighbors'])  # Convert np.int64 to int\n",
    "best_weight = grid_search.best_params_['weights']\n",
    "\n",
    "print(\"Best Parameter: {'n_neighbors':\", best_k, \", 'weights':\", f\"'{best_weight}'\" + \"}\")\n",
    "print(\"Best Score:\", grid_search.best_score_)\n",
    "\n"
   ]
  },
  {
   "cell_type": "markdown",
   "id": "762c4dcc",
   "metadata": {},
   "source": [
    "#### Decision Tree Classifier"
   ]
  },
  {
   "cell_type": "code",
   "execution_count": 40,
   "id": "6986cab7",
   "metadata": {},
   "outputs": [
    {
     "name": "stderr",
     "output_type": "stream",
     "text": [
      "C:\\Users\\DELL\\AppData\\Local\\Temp\\ipykernel_23204\\3294097402.py:17: FutureWarning: A value is trying to be set on a copy of a DataFrame or Series through chained assignment using an inplace method.\n",
      "The behavior will change in pandas 3.0. This inplace method will never work because the intermediate object on which we are setting values always behaves as a copy.\n",
      "\n",
      "For example, when doing 'df[col].method(value, inplace=True)', try using 'df.method({col: value}, inplace=True)' or df[col] = df[col].method(value) instead, to perform the operation inplace on the original object.\n",
      "\n",
      "\n",
      "  X.age.fillna(value = X['age'].mean(), inplace=True)\n"
     ]
    },
    {
     "name": "stdout",
     "output_type": "stream",
     "text": [
      "Best Parameters:  {'max_depth': 5, 'min_samples_split': 2}\n",
      "Best Score:  0.8210569985569987\n"
     ]
    }
   ],
   "source": [
    "# Decision Tree Classifier and use best parameters\n",
    "import pandas as pd\n",
    "import seaborn as sns\n",
    "import numpy as np\n",
    "\n",
    "# Load the dataset\n",
    "df = sns.load_dataset(\"titanic\")\n",
    "\n",
    "# Define the features and the target\n",
    "X = df[['pclass', 'sex', 'age', 'sibsp', 'parch', 'fare']]\n",
    "y = df['survived']\n",
    "\n",
    "# Define the Decision Tree Classifier\n",
    "X = pd.get_dummies(X, columns=['sex'])\n",
    "\n",
    "# Define the Decision Tree Classifier\n",
    "X.age.fillna(value = X['age'].mean(), inplace=True)\n",
    "\n",
    "# Define the Decision Tree Classifier\n",
    "from sklearn.tree import DecisionTreeClassifier\n",
    "from sklearn.model_selection import GridSearchCV\n",
    "import numpy as np\n",
    "\n",
    "#create a model\n",
    "model = DecisionTreeClassifier()\n",
    "\n",
    "# define parameter grid\n",
    "param_grid = {'max_depth': [3, 5, 7, None], 'min_samples_split': [2, 3, 4]}\n",
    "\n",
    "#object grid search cv (Creating the model)\n",
    "grid_search = GridSearchCV(model, param_grid, cv=5, scoring='precision')\n",
    "\n",
    "#train the model\n",
    "grid_search.fit(X,y)\n",
    "\n",
    "# print the best parameters\n",
    "print(\"Best Parameters: \", grid_search.best_params_)\n",
    "print(\"Best Score: \", grid_search.best_score_)\n",
    "\n",
    "# Best Parameters:  {'max_depth': 3, 'min_samples_split': 2}\n",
    "# Best Score:  0.775"
   ]
  },
  {
   "cell_type": "markdown",
   "id": "c74b4b25",
   "metadata": {},
   "source": [
    "#### Randam Forest"
   ]
  },
  {
   "cell_type": "code",
   "execution_count": 45,
   "id": "726d28a0",
   "metadata": {},
   "outputs": [
    {
     "name": "stderr",
     "output_type": "stream",
     "text": [
      "C:\\Users\\DELL\\AppData\\Local\\Temp\\ipykernel_23204\\3368122104.py:16: FutureWarning: A value is trying to be set on a copy of a DataFrame or Series through chained assignment using an inplace method.\n",
      "The behavior will change in pandas 3.0. This inplace method will never work because the intermediate object on which we are setting values always behaves as a copy.\n",
      "\n",
      "For example, when doing 'df[col].method(value, inplace=True)', try using 'df.method({col: value}, inplace=True)' or df[col] = df[col].method(value) instead, to perform the operation inplace on the original object.\n",
      "\n",
      "\n",
      "  X.age.fillna(value = X['age'].mean(), inplace=True)\n"
     ]
    },
    {
     "name": "stdout",
     "output_type": "stream",
     "text": [
      "Best Parameters:  {'max_depth': 5, 'max_features': 'sqrt', 'min_samples_split': 4, 'n_estimators': 10}\n",
      "Best Score:  0.826091817786733\n"
     ]
    }
   ],
   "source": [
    "import pandas as pd\n",
    "import seaborn as sns\n",
    "import numpy as np\n",
    "\n",
    "# Load the dataset\n",
    "df = sns.load_dataset(\"titanic\")\n",
    "\n",
    "# Define the features and the target\n",
    "X = df[['pclass', 'sex', 'age', 'sibsp', 'parch', 'fare']]\n",
    "y = df['survived']\n",
    "\n",
    "# Define the Decision Tree Classifier\n",
    "X = pd.get_dummies(X, columns=['sex'])\n",
    "\n",
    "# Define the Decision Tree Classifier\n",
    "X.age.fillna(value = X['age'].mean(), inplace=True)\n",
    "\n",
    "# Define the Decision Tree Classifier\n",
    "from sklearn.ensemble import RandomForestClassifier\n",
    "from sklearn.model_selection import GridSearchCV\n",
    "import numpy as np\n",
    "\n",
    "#create a model\n",
    "model = RandomForestClassifier()\n",
    "\n",
    "# define parameter grid\n",
    "param_grid = {'max_depth': [3, 5, 7, None], \n",
    "              'min_samples_split': [2, 3, 4], \n",
    "              'n_estimators': [10,50,100], \n",
    "              'max_features': ['sqrt', 'log2']}\n",
    "\n",
    "#object grid search cv (Creating the model)\n",
    "grid_search = GridSearchCV(model, param_grid, cv=5, scoring='precision')\n",
    "\n",
    "#train the model\n",
    "grid_search.fit(X,y)\n",
    "\n",
    "# print the best parameters\n",
    "print(\"Best Parameters: \", grid_search.best_params_)\n",
    "print(\"Best Score: \", grid_search.best_score_)\n"
   ]
  }
 ],
 "metadata": {
  "kernelspec": {
   "display_name": "Python 3",
   "language": "python",
   "name": "python3"
  },
  "language_info": {
   "codemirror_mode": {
    "name": "ipython",
    "version": 3
   },
   "file_extension": ".py",
   "mimetype": "text/x-python",
   "name": "python",
   "nbconvert_exporter": "python",
   "pygments_lexer": "ipython3",
   "version": "3.13.3"
  }
 },
 "nbformat": 4,
 "nbformat_minor": 5
}
