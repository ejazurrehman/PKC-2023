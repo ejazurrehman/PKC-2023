{
 "cells": [
  {
   "cell_type": "markdown",
   "id": "41ef6b48",
   "metadata": {},
   "source": [
    "## Cross_Validation\n",
    "Author: Ejaz-ur-Rehman\\\n",
    "Date Created: 09-04-2025\\\n",
    "Email ID: ijazfinance@gmail.com"
   ]
  },
  {
   "cell_type": "markdown",
   "id": "e12a7709",
   "metadata": {},
   "source": [
    "- In the context of machine learning, cross-validation is a technique used to evaluate the performance of a model and ensure that it generalizes well to unseen data. It helps in detecting problems like overfitting (when a model performs well on training data but poorly on new data)."
   ]
  },
  {
   "cell_type": "markdown",
   "id": "d2475639",
   "metadata": {},
   "source": [
    "- It’s a resampling procedure used to assess how well a machine learning model will perform in practice. It splits the data into multiple subsets and trains/tests the model several times using different combinations of these subsets."
   ]
  },
  {
   "cell_type": "markdown",
   "id": "04ad6cd3",
   "metadata": {},
   "source": [
    "#### Introduction to Cross-Validation:The Most Common Type: k-Fold Cross-Validation\n",
    "- The dataset is divided into k equal parts (called “folds”).\n",
    "- In k-Fold Cross-Validation,For each fold:\n",
    "  - Use that fold as the test set.\n",
    "  - Train the model on the training set.Use the remaining k−1 folds as the training set.\n",
    "- Repeat this process k times, each time with a different test fold.\n",
    "- Average the performance (e.g., accuracy, RMSE) across all k trials."
   ]
  },
  {
   "cell_type": "markdown",
   "id": "4b31b629",
   "metadata": {},
   "source": []
  }
 ],
 "metadata": {
  "language_info": {
   "name": "python"
  }
 },
 "nbformat": 4,
 "nbformat_minor": 5
}
