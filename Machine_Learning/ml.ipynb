{
 "cells": [
  {
   "cell_type": "markdown",
   "metadata": {},
   "source": [
    "Author : Ejaz-ur-Rehman\\\n",
    "Date: 21-03-2025\\\n",
    "Email: ijazfinance@gmail.com"
   ]
  },
  {
   "cell_type": "markdown",
   "metadata": {},
   "source": [
    "## Machine Learning"
   ]
  },
  {
   "cell_type": "markdown",
   "metadata": {},
   "source": [
    "- Machine Learning (ML) is a branch of artificial intelligence (AI) that enables computers to learn from data and make decisions or predictions without being explicitly programmed. Instead of following predefined rules, ML algorithms analyze patterns in data and improve their performance over time."
   ]
  },
  {
   "cell_type": "markdown",
   "metadata": {},
   "source": [
    "### Types of Machine Learning\n",
    "1. Supervised Learning – The algorithm is trained on labeled data, meaning it learns from input-output pairs.\n",
    "    - Examples: Spam detection, fraud detection, image classification.\n",
    "2. Unsupervised Learning – The algorithm identifies patterns in data without predefined labels.\n",
    "    - Examples: Customer segmentation, anomaly detection, recommendation systems.\n",
    "3. Reinforcement Learning – The model learns by interacting with an environment and receiving rewards or penalties.\n",
    "    - Examples: Robotics, self-driving cars, game playing (e.g., AlphaGo).\n",
    "4. Semi-Supervised Learning (SSL)\n",
    "   - Semi-supervised learning is a machine learning approach that lies between supervised learning (where all data is labeled) and unsupervised learning (where no data is labeled). In SSL, the model is trained using a small amount of labeled data along with a large amount of unlabeled data to improve learning accuracy."
   ]
  },
  {
   "cell_type": "markdown",
   "metadata": {},
   "source": [
    "### Applications of Machine Learning\n",
    "- Finance: Fraud detection, stock price prediction.\n",
    "- Healthcare: Disease diagnosis, drug discovery.\n",
    "- Retail: Personalized recommendations, demand forecasting.\n",
    "- Manufacturing: Predictive maintenance, quality control.\n",
    "- Supply Chain & Logistics: Route optimization, inventory management."
   ]
  },
  {
   "cell_type": "markdown",
   "metadata": {},
   "source": [
    "### When to Use Regression in Machine Learning?\n",
    "- Regression is used in machine learning when the goal is to predict a continuous numerical value based on input data. It helps identify relationships between variables and make quantitative predictions."
   ]
  },
  {
   "cell_type": "markdown",
   "metadata": {},
   "source": [
    "### Use Cases of Regression in Machine Learning\n",
    "1. Demand Forecasting 📊\\\n",
    "✔ Predict future product demand based on past sales data, seasonality, and economic trends.\\\n",
    "✔ Example: Retailers like Walmart use regression to forecast sales volume and optimize inventory.\n",
    "\n",
    "2. Price Prediction 💰\\\n",
    "✔ Estimate the price of houses, cars, or stocks based on factors like location, size, or market conditions.\\\n",
    "✔ Example: Real estate firms use regression models to predict house prices based on historical data.\n",
    "\n",
    "3. Supply Chain & Logistics Optimization 🚚\\\n",
    "✔ Forecast fuel costs, shipping times, or warehouse demand based on historical data and market trends.\\\n",
    "✔ Example: Amazon predicts delivery times using regression analysis on route and traffic data.\n",
    "\n",
    "4. Financial Forecasting 📈\\\n",
    "✔ Predict revenue, expenses, or stock market trends based on historical financial data.\\\n",
    "✔ Example: Investment firms use regression to forecast stock prices and market fluctuations.\n",
    "\n",
    "5. Healthcare & Risk Assessment 🏥\\\n",
    "✔ Predict patient recovery time, disease risk, or insurance claim costs.\\\n",
    "✔ Example: Hospitals use regression to estimate patient readmission rates.\n",
    "\n"
   ]
  },
  {
   "cell_type": "markdown",
   "metadata": {},
   "source": [
    "### Types of Regression Models & When to Use Them\n",
    "1. Linear Regression\n",
    "  - Best For\t: Simple relationships\n",
    "  - Example Use Case: Predicting house prices based on square footage\n",
    "\t\t\n",
    "2. Multiple Linear Regression\t\n",
    "  - Best For: Multiple factors involved\t\n",
    "  - Example Use Case: Forecasting sales using price, marketing spend, and seasonality\n",
    "  \n",
    "3. Polynomial Regression\t\n",
    "  - Best For: Non-linear relationships\t\n",
    "  - Example Use Case: Predicting the impact of advertising spend on revenue\n",
    "  \n",
    "4. Logistic Regression\t\n",
    "  - Best For:Binary classification\t\n",
    "  - Example Use Case: Predicting if a customer will buy a product (Yes/No)\n",
    "  \n",
    "5. Ridge/Lasso Regression\t\n",
    "  - Best For: Handling multicollinearity\t\n",
    "  - Example Use Case: Stock price prediction when many factors influence the outcome\n",
    "  \n",
    "6. Time Series Regression\t\n",
    "  - Best For: Predicting trends over time\t\n",
    "  - Example Use Case: Forecasting demand fluctuations in supply chains"
   ]
  },
  {
   "cell_type": "markdown",
   "metadata": {},
   "source": [
    "### When to Use Classification in Machine Learning?\n",
    "- Classification is used in machine learning when the goal is to predict a categorical outcome (discrete labels or classes) rather than a continuous value. It helps in making decisions by assigning data points to predefined categories."
   ]
  },
  {
   "cell_type": "markdown",
   "metadata": {},
   "source": [
    "Use Cases of Classification in Machine Learning\n",
    "1. Fraud Detection 🏦\\\n",
    "✔ Identify fraudulent vs. legitimate transactions in banking.\\\n",
    "✔ Example: Credit card companies classify transactions as \"fraud\" or \"not fraud.\"\n",
    "\n",
    "2. Customer Segmentation 🎯\\\n",
    "✔ Categorize customers based on purchasing behavior or demographics.\\\n",
    "✔ Example: E-commerce platforms classify users as \"high-value\" or \"low-value\" customers.\n",
    "\n",
    "3. Spam Detection 📧\\\n",
    "✔ Filter out spam emails from important messages.\\\n",
    "✔ Example: Gmail’s spam filter classifies emails as \"spam\" or \"not spam.\"\n",
    "\n",
    "4. Disease Diagnosis (Healthcare) 🏥\\\n",
    "✔ Predict if a patient has a disease based on symptoms.\\\n",
    "✔ Example: AI in hospitals classifies MRI scans as \"cancerous\" or \"non-cancerous.\"\n",
    "\n",
    "5. Image & Object Recognition 📸\\\n",
    "✔ Identify objects in images or videos.\\\n",
    "✔ Example: Facebook’s face recognition classifies images by recognizing people's faces.\n",
    "\n",
    "6. Quality Control in Manufacturing 🏭\\\n",
    "✔ Detect defective vs. non-defective products.\\\n",
    "✔ Example: Factories classify products as \"pass\" or \"fail\" during inspection.\n",
    "\n",
    "7. Credit Scoring & Loan Approval 💳\\\n",
    "✔ Classify loan applicants as \"high-risk\" or \"low-risk.\"\\\n",
    "✔ Example: Banks use classification models to approve or reject loan applications.\n",
    "\n",
    "8. Sentiment Analysis 💬\\\n",
    "✔ Classify customer reviews as \"positive,\" \"neutral,\" or \"negative.\"\\\n",
    "✔ Example: Amazon reviews are classified to measure customer satisfaction."
   ]
  },
  {
   "cell_type": "markdown",
   "metadata": {},
   "source": [
    "### Types of Classification Models & When to Use Them\n",
    "1. Binary Classification\n",
    "- Best For: Two-class problems\n",
    "- Example Use Case : Fraud detection (Fraud/Not Fraud)\n",
    "\t\t\n",
    "2. Multiclass Classification\t\n",
    "- Best For: More than two classes\t\n",
    "- Example Use Case: Sentiment analysis (Positive/Neutral/Negative)\n",
    "  \n",
    "3. Decision Trees\t\n",
    "- Best For: Simple & interpretable decisions\t\n",
    "- Exmaple Use Case: Loan approval (Approve/Deny)\n",
    "  \n",
    "4. Random Forest\t\n",
    "- Best For: Handling noisy data\t\n",
    "- Example Use Case: Medical diagnosis (Disease/No Disease)\n",
    "  \n",
    "5. Support Vector Machines (SVM)\t\n",
    "- Best For: High-dimensional data\t\n",
    "- Example Use Case: Spam email detection\n",
    "  \n",
    "6. Neural Networks\t\n",
    "- Best For: Complex patterns\t\n",
    "- Example Use Case: Face recognition in social media\n",
    "  \n",
    "7. K-Nearest Neighbors (KNN)\t\n",
    "- Best For: Small datasets\t\n",
    "- Example Use Case: Classifying handwritten digits (0-9)"
   ]
  },
  {
   "cell_type": "markdown",
   "metadata": {},
   "source": [
    "In Machine Learning (ML), **input** data goes by different names depending on the context, the type of learning, and the problem being solved. Here are some common terms used for input data in ML:\n",
    "1.  **Features**: In supervised learning, features are the input variables that are used to predict\n",
    "2. **Attributes**: In data mining and machine learning, attributes are the input variables that are used to predict the target variabl.\n",
    "3. **Predictors**: In regression analysis, predictors are the input variables that are used to predict the target variable.\n",
    "4. **Covariates**: In statistics, covariates are the input variables that are used to predict the target variable.\n",
    "5. **Independent Variables**: In statistics, independent variables are the input variables that are used to predict the target variable."
   ]
  },
  {
   "cell_type": "markdown",
   "metadata": {},
   "source": [
    "In Machine Learning (ML), the **output** or predicted result of a model is referred to by different names depending on the type of learning and the specific application. Here are the most common terms used for output data in ML:\n",
    "1. **Target Variable**: In supervised learning, the target variable is the output or the value that the model is trying to predict.\n",
    "2. **Dependent Variable**: This term is also used in supervised learning to refer to the output or the variable that is being predicted.\n",
    "3. **Responese Variable**: This term is used in regression analysis to refer to the output or the variable that is being predicted.\n",
    "4. **Label**: In classification problems, the output is referred to as a label, which is the predicted class or category.\n",
    "5. **Ground Truth**: This term is used to refer to the actual output or the correct answer, which is used to evaluat."
   ]
  },
  {
   "cell_type": "markdown",
   "metadata": {},
   "source": [
    "### What is Training Data in Machine Learning?\n",
    "- Training Data is the dataset used to teach a machine learning model how to make predictions or classifications. It consists of input features (X) and corresponding output labels (Y) (for supervised learning). The model learns patterns, relationships, and structures from this data before being evaluated on unseen test data."
   ]
  },
  {
   "cell_type": "markdown",
   "metadata": {},
   "source": [
    "### Key Characteristics of Training Data\n",
    "✔ Labeled (Supervised Learning) – Each input has a corresponding correct output (e.g., email → spam or not spam).\\\n",
    "✔ Unlabeled (Unsupervised Learning) – No predefined labels, and the model identifies patterns (e.g., customer segmentation).\\\n",
    "✔ Large and Diverse – More diverse data improves model generalization.\\\n",
    "✔ Representative – Should reflect real-world scenarios to avoid bias."
   ]
  },
  {
   "cell_type": "markdown",
   "metadata": {},
   "source": [
    "Training Data vs. Testing Data vs. Validation Data\n",
    "1. Training Data\t\n",
    "   - Purpose: Train the model to learn patterns\t\n",
    "   - Size: 60-80%\n",
    "2. Validation Data\t\n",
    "   - Purpose: Tune hyperparameters, prevent overfitting\t\n",
    "   - Size: 10-20%\n",
    "3. Test Data\t\n",
    "   - Purpsoe: Evaluate final model performance\t\n",
    "   - Size: 10-20%"
   ]
  },
  {
   "cell_type": "markdown",
   "metadata": {},
   "source": [
    "### Supervised Machine Learning Algorithems:\n",
    "- Supervised learning algorithms are used when we have labeled training data, meaning each input has a corresponding correct output. These algorithms learn from the training data and make predictions for new, unseen data.\n",
    "\n",
    "1. Logistic Regression\n",
    "2. K-Nearest Neighbors (K-NN)\n",
    "3. Support Vector Machine (SVM)\n",
    "4. Kernel SVM\n",
    "5. Naive Bayes\n",
    "6. Decision Tree Classification\n",
    "7. Random Forest Classification"
   ]
  },
  {
   "cell_type": "markdown",
   "metadata": {},
   "source": [
    "1️⃣ Regression Algorithms (For Continuous Outputs)\n",
    "- Used when the target variable is continuous (numerical), like predicting house prices or stock prices.\n",
    "\n",
    "🔹 Linear Regression – Models relationships between input and output using a straight line.\\\n",
    "🔹 Polynomial Regression – Extends linear regression to capture non-linear relationships.\\\n",
    "🔹 Ridge Regression – Linear regression with L2 regularization to prevent overfitting.\\\n",
    "🔹 Lasso Regression – Uses L1 regularization to remove irrelevant features.\\\n",
    "🔹 ElasticNet Regression – Combination of Ridge and Lasso regression.\\\n",
    "🔹 Support Vector Regression (SVR) – Uses Support Vector Machines for regression tasks.\\\n",
    "🔹 Decision Tree Regression – Splits data into branches for making predictions.\\\n",
    "🔹 Random Forest Regression – Uses multiple decision trees and averages their results.\\\n",
    "🔹 XGBoost Regression – An optimized boosting technique for better accuracy.\\\n",
    "🔹 Bayesian Regression – Applies probability distributions to regression problems.\\\n",
    "\n",
    "📌 Example Use Case: Predicting house prices based on location, size, and features.\n",
    "\n",
    "2️⃣ Classification Algorithms (For Discrete Outputs)\n",
    "- Used when the target variable is categorical (discrete), like classifying emails as spam or not spam.\n",
    "\n",
    "🔹 Logistic Regression – Used for binary classification (e.g., Yes/No, Spam/Not Spam).\\\n",
    "🔹 K-Nearest Neighbors (KNN) – Classifies based on the majority class of nearest neighbors.\\\n",
    "🔹 Decision Tree Classification – Splits data into branches to make decisions.\\\n",
    "🔹 Random Forest Classification – Uses multiple decision trees to improve accuracy.\\\n",
    "🔹 Support Vector Machine (SVM) – Finds the best boundary between classes.\\\n",
    "🔹 Naïve Bayes – Based on Bayes’ theorem, best for text classification (e.g., spam detection).\\\n",
    "🔹 Gradient Boosting (GBM) – Boosts weak classifiers to improve performance.\\\n",
    "🔹 XGBoost Classification – Optimized gradient boosting with faster computation.\\\n",
    "🔹 LightGBM – Faster and efficient boosting method for large datasets.\\\n",
    "🔹 CatBoost – A gradient boosting method designed for categorical data.\\\n",
    "🔹 Artificial Neural Networks (ANNs) – Deep learning approach for complex tasks.\\\n",
    "\n",
    "📌 Example Use Case: Classifying loan applicants as \"Approved\" or \"Denied\" based on financial history.\n",
    "\n",
    "3️⃣ Ensemble Learning Algorithms (For Both Regression & Classification)\n",
    "- Combine multiple models to improve accuracy and robustness.\n",
    "\n",
    "🔹 Bagging (Bootstrap Aggregating) – Uses multiple models (e.g., Random Forest).\\\n",
    "🔹 Boosting (e.g., AdaBoost, XGBoost, LightGBM, CatBoost) – Improves weak models iteratively.\\\n",
    "🔹 Stacking – Combines predictions from multiple algorithms to form a stronger model.\\\n",
    "\n",
    "📌 Example Use Case: Credit card fraud detection using multiple models for higher accuracy."
   ]
  },
  {
   "cell_type": "markdown",
   "metadata": {},
   "source": [
    "### Unsupervised Machine Learning Algorithms\n",
    "- Unsupervised learning algorithms are used when there is no labeled data. The model identifies patterns, relationships, and structures in the data without explicit supervision.\n",
    "\n",
    "1️⃣ Clustering Algorithms (Grouping Similar Data)\n",
    "- Used to segment data into different clusters based on similarities.\n",
    "\n",
    "🔹 K-Means Clustering – Groups data into K clusters based on centroids.\\\n",
    "🔹 Hierarchical Clustering – Creates a tree-like structure of clusters.\\\n",
    "🔹 DBSCAN (Density-Based Spatial Clustering of Applications with Noise) – Groups data based on density and ignores noise.\\\n",
    "🔹 Mean Shift Clustering – Uses kernel density estimation to find clusters.\\\n",
    "🔹 Gaussian Mixture Models (GMM) – Probabilistic clustering using Gaussian distributions.\\\n",
    "🔹 Affinity Propagation – Finds clusters by analyzing similarity between data points.\\\n",
    "\n",
    "📌 Example Use Case: Customer segmentation in marketing.\n",
    "\n",
    "2️⃣ Dimensionality Reduction Algorithms (Feature Compression)\n",
    "- Used to reduce the number of features while keeping important information.\n",
    "\n",
    "🔹 Principal Component Analysis (PCA) – Converts high-dimensional data into fewer components.\\\n",
    "🔹 t-Distributed Stochastic Neighbor Embedding (t-SNE) – Used for visualizing high-dimensional data in 2D/3D.\\\n",
    "🔹 Linear Discriminant Analysis (LDA) – Reduces dimensions while maintaining class separability.\\\n",
    "🔹 Autoencoders (Neural Networks) – Uses deep learning to encode and reconstruct data.\\\n",
    "🔹 Independent Component Analysis (ICA) – Finds independent features from mixed signals.\\\n",
    "\n",
    "📌 Example Use Case: Reducing image data dimensions for faster processing.\n",
    "\n",
    "3️⃣ Association Rule Learning Algorithms (Pattern Discovery)\n",
    "- Used to find relationships between variables in large datasets.\n",
    "\n",
    "🔹 Apriori Algorithm – Finds frequent itemsets in transactional data (e.g., market basket analysis).\\\n",
    "🔹 Eclat Algorithm – A faster version of Apriori for frequent itemset mining.\\\n",
    "🔹 FP-Growth (Frequent Pattern Growth) – Improves Apriori by avoiding candidate generation.\\\n",
    "\n",
    "📌 Example Use Case: Recommending products based on purchase history (e.g., Amazon).\n",
    "\n",
    "4️⃣ Anomaly Detection Algorithms (Outlier Detection)\n",
    "- Used to identify rare events or unusual patterns.\n",
    "\n",
    "🔹 Isolation Forest – Detects anomalies by isolating outliers.\\\n",
    "🔹 One-Class SVM – Uses SVM for detecting outliers.\\\n",
    "🔹 Local Outlier Factor (LOF) – Identifies outliers based on local density.\\\n",
    "🔹 Autoencoders – Neural networks for anomaly detection.\\\n",
    "\n",
    "📌 Example Use Case: Fraud detection in banking transactions.\n",
    "\n",
    "5️⃣ Reinforcement Learning (Hybrid of Supervised & Unsupervised Learning)\n",
    "- Not purely unsupervised but does not require labeled data. The model learns by interacting with an environment.\n",
    "\n",
    "🔹 Q-Learning – Learns optimal actions using rewards.\\\n",
    "🔹 Deep Q-Networks (DQN) – Uses deep learning for reinforcement learning.\\\n",
    "🔹 Policy Gradient Methods – Optimizes the policy directly.\\\n",
    "\n",
    "📌 Example Use Case: AI playing games like Chess and Go.\n",
    "\n"
   ]
  },
  {
   "cell_type": "markdown",
   "metadata": {},
   "source": [
    "### Reinforcement Learning Algorithms\n",
    "- Reinforcement Learning (RL) is a type of machine learning where an agent learns to make decisions by interacting with an environment to maximize cumulative rewards. RL algorithms are used in gaming, robotics, finance, and autonomous systems.\n",
    "\n",
    "1️⃣ Model-Free Reinforcement Learning\n",
    "- These algorithms learn without a model of the environment.\n",
    "\n",
    "🔹 Value-Based Methods (Learn the Best Action for Each State)\n",
    "  - Q-Learning – Off-policy algorithm that learns the best action-value function.\n",
    "  - Deep Q-Networks (DQN) – Uses deep learning (neural networks) with Q-Learning.\n",
    "  - Double DQN (DDQN) – Improves DQN by reducing overestimation of Q-values.\n",
    "  - Dueling DQN – Splits Q-value into two components (value & advantage) for better learning.\n",
    "  - SARSA (State-Action-Reward-State-Action) – On-policy learning, updates Q-values based on action taken.\n",
    "\n",
    "📌 Example Use Case: AI playing video games (e.g., AlphaGo, Atari games).\n",
    "\n",
    "🔹 Policy-Based Methods (Directly Learn the Best Policy)\n",
    "  - REINFORCE (Monte Carlo Policy Gradient) – Learns the policy directly using rewards.\n",
    "  - Actor-Critic (A2C, A3C) – Combines value-based and policy-based learning.\n",
    "  - Proximal Policy Optimization (PPO) – Improves stability and efficiency of policy learning.\n",
    "  - Trust Region Policy Optimization (TRPO) – Optimizes policies while maintaining stability.\n",
    "  - Deep Deterministic Policy Gradient (DDPG) – Works with continuous action spaces.\n",
    "  - Soft Actor-Critic (SAC) – Maximizes both reward and entropy for better exploration.\n",
    "\n",
    "📌 Example Use Case: Robot learning to walk or drive autonomously.\n",
    "\n",
    "2️⃣ Model-Based Reinforcement Learning\n",
    "- These algorithms build a model of the environment and use it for planning.\n",
    "    - Monte Carlo Tree Search (MCTS) – Simulates possible future actions before making a decision.\n",
    "    - AlphaGo & AlphaZero – Uses deep learning and MCTS for mastering board games like Chess & Go.\n",
    "    - World Models – Agents learn a model of the world and use it for planning.\n",
    "\n",
    "📌 Example Use Case: AI playing Chess, Go, and Poker at superhuman levels.\n",
    "\n",
    "3️⃣ Multi-Agent Reinforcement Learning (MARL)\n",
    "- Used when multiple agents interact in the same environment.\n",
    "    - Independent Q-Learning – Each agent learns independently using Q-learning.\n",
    "    - MADDPG (Multi-Agent Deep Deterministic Policy Gradient) – Multi-agent version of DDPG.\n",
    "    - Cooperative MARL – Agents learn to collaborate for a common goal.\n",
    "\n",
    "📌 Example Use Case: AI-controlled teams in real-time strategy games (e.g., StarCraft AI).\n",
    "\n",
    "4️⃣ Hierarchical Reinforcement Learning\n",
    "- Breaks a problem into multiple levels of decision-making.\n",
    "    - Options Framework – Agents learn high-level skills or sub-policies.\n",
    "    - Feudal Reinforcement Learning – Divides learning into different levels (e.g., master and sub-agents).\n",
    "\n",
    "📌 Example Use Case: Autonomous robots performing complex tasks like assembling products."
   ]
  },
  {
   "cell_type": "markdown",
   "metadata": {},
   "source": [
    "## Important Libraries for Machine Learning \n",
    "- Machine Learning (ML) libraries provide pre-built tools for developing and training models efficiently. Here’s a categorized list of the most important ML libraries:\n",
    "\n",
    "1️⃣ Python-Based ML Libraries\n",
    "\n",
    "🔹 General Machine Learning Libraries\\\n",
    "    ✔ Scikit-learn – The most popular library for classical ML algorithms (regression, classification, clustering).\\\n",
    "    ✔ XGBoost – Powerful library for gradient boosting (used in Kaggle competitions).\\\n",
    "    ✔ LightGBM – Faster gradient boosting implementation, optimized for large datasets.\\\n",
    "    ✔ CatBoost – Boosting library optimized for categorical data.\n",
    "\n",
    "📌 Use Case: Predictive modeling, data classification, and clustering.\n",
    "\n",
    "2️⃣ Deep Learning Libraries\n",
    "\n",
    "🔹 Deep Learning Frameworks\\\n",
    "    ✔ TensorFlow – Google’s deep learning library for building neural networks.\\\n",
    "    ✔ PyTorch – Facebook’s deep learning framework, popular for research and AI development.\\\n",
    "    ✔ Keras – High-level API built on TensorFlow for easier deep learning model building.\\\n",
    "    ✔ MXNet – Scalable deep learning framework, used by Amazon.\n",
    "\n",
    "📌 Use Case: Computer vision, NLP, self-driving cars, and AI-based applications.\n",
    "\n",
    "3️⃣ Data Preprocessing & Manipulation\\\n",
    "    ✔ NumPy – Works with arrays and numerical computations.\\\n",
    "    ✔ Pandas – Used for data manipulation, analysis, and preprocessing.\\\n",
    "    ✔ Scipy – Mathematical and scientific computing (linear algebra, optimization).\n",
    "\n",
    "📌 Use Case: Data preprocessing before training ML models.\n",
    "\n",
    "4️⃣ Data Visualization\n",
    "\n",
    "✔ Matplotlib – Basic data visualization (charts, plots).\\\n",
    "✔ Seaborn – Advanced visualization with statistical insights.\\\n",
    "✔ Plotly – Interactive visualizations.\n",
    "\n",
    "📌 Use Case: Understanding patterns in data before applying ML models.\n",
    "\n",
    "5️⃣ Natural Language Processing (NLP)\n",
    "\n",
    "✔ NLTK – Classic NLP toolkit for text processing.\\\n",
    "✔ spaCy – Fast NLP library with pre-trained models.\\\n",
    "✔ Transformers (Hugging Face) – State-of-the-art deep learning models for NLP tasks.\n",
    "\n",
    "📌 Use Case: Chatbots, sentiment analysis, machine translation.\n",
    "\n",
    "6️⃣ Computer Vision\n",
    "\n",
    "✔ OpenCV – Powerful computer vision library for image processing.\\\n",
    "✔ Pillow (PIL) – Image manipulation (resizing, filtering, etc.).\\\n",
    "✔ Fastai – High-level deep learning library built on PyTorch for computer vision.\n",
    "\n",
    "📌 Use Case: Object detection, face recognition, image classification.\n",
    "\n",
    "7️⃣ Reinforcement Learning (RL)\n",
    "\n",
    "✔ Stable-Baselines3 – Pre-built RL models based on OpenAI Gym.\\\n",
    "✔ RLlib – Reinforcement learning framework built on Ray.\\\n",
    "✔ Gym (OpenAI) – RL environment for training AI agents.\n",
    "\n",
    "📌 Use Case: AI training in gaming, robotics, and automation.\n",
    "\n",
    "8️⃣ AutoML (Automated Machine Learning)\n",
    "\n",
    "✔ Auto-sklearn – Automated model selection and hyperparameter tuning.\\\n",
    "✔ TPOT – Uses genetic algorithms to find the best ML pipeline.\\\n",
    "✔ H2O.ai – Scalable AutoML for business applications.\n",
    "\n",
    "📌 Use Case: Automatically finding the best ML model for a problem.\n",
    "\n",
    "\n",
    "\n"
   ]
  },
  {
   "cell_type": "markdown",
   "metadata": {},
   "source": [
    "## Ordinary Least Squares Example"
   ]
  },
  {
   "cell_type": "code",
   "execution_count": null,
   "metadata": {},
   "outputs": [],
   "source": [
    "# data loading and prepration \n",
    "from sklearn.datasets import load_diabetes\n",
    "from sklearn.model_selection import train_test_split\n",
    "\n",
    "X, y = load_diabetes(return_X_y=True)\n",
    "X = X[:, [2]]  # Use only one feature\n",
    "X_train, X_test, y_train, y_test = train_test_split(X, y, test_size=20, shuffle=False)"
   ]
  },
  {
   "cell_type": "code",
   "execution_count": 6,
   "metadata": {},
   "outputs": [],
   "source": [
    "# liner regression model\n",
    "from sklearn.linear_model import LinearRegression\n",
    "\n",
    "regressor = LinearRegression().fit(X_train, y_train)"
   ]
  },
  {
   "cell_type": "code",
   "execution_count": null,
   "metadata": {},
   "outputs": [
    {
     "name": "stdout",
     "output_type": "stream",
     "text": [
      "Mean squared error: 2548.07\n",
      "Coefficient of determination: 0.47\n"
     ]
    }
   ],
   "source": [
    "# model evaluation\n",
    "from sklearn.metrics import mean_squared_error, r2_score\n",
    "\n",
    "y_pred = regressor.predict(X_test)\n",
    "\n",
    "print(f\"Mean squared error: {mean_squared_error(y_test, y_pred):.2f}\")\n",
    "print(f\"Coefficient of determination: {r2_score(y_test, y_pred):.2f}\")"
   ]
  },
  {
   "cell_type": "code",
   "execution_count": 7,
   "metadata": {},
   "outputs": [
    {
     "data": {
      "image/png": "[encoded data removed]",
      "text/plain": [
       "<Figure size 1000x500 with 2 Axes>"
      ]
     },
     "metadata": {},
     "output_type": "display_data"
    }
   ],
   "source": [
    "# plotting the results\n",
    "import matplotlib.pyplot as plt\n",
    "\n",
    "fig, ax = plt.subplots(ncols=2, figsize=(10, 5), sharex=True, sharey=True)\n",
    "\n",
    "ax[0].scatter(X_train, y_train, label=\"Train data points\")\n",
    "ax[0].plot(\n",
    "    X_train,\n",
    "    regressor.predict(X_train),\n",
    "    linewidth=3,\n",
    "    color=\"tab:orange\",\n",
    "    label=\"Model predictions\",\n",
    ")\n",
    "ax[0].set(xlabel=\"Feature\", ylabel=\"Target\", title=\"Train set\")\n",
    "ax[0].legend()\n",
    "\n",
    "ax[1].scatter(X_test, y_test, label=\"Test data points\")\n",
    "ax[1].plot(X_test, y_pred, linewidth=3, color=\"tab:orange\", label=\"Model predictions\")\n",
    "ax[1].set(xlabel=\"Feature\", ylabel=\"Target\", title=\"Test set\")\n",
    "ax[1].legend()\n",
    "\n",
    "fig.suptitle(\"Linear Regression\")\n",
    "\n",
    "plt.show()"
   ]
  }
 ],
 "metadata": {
  "kernelspec": {
   "display_name": "Python 3",
   "language": "python",
   "name": "python3"
  },
  "language_info": {
   "codemirror_mode": {
    "name": "ipython",
    "version": 3
   },
   "file_extension": ".py",
   "mimetype": "text/x-python",
   "name": "python",
   "nbconvert_exporter": "python",
   "pygments_lexer": "ipython3",
   "version": "3.13.2"
  }
 },
 "nbformat": 4,
 "nbformat_minor": 2
}
