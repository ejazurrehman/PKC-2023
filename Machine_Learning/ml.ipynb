{
 "cells": [
  {
   "cell_type": "markdown",
   "metadata": {},
   "source": [
    "Author : Ejaz-ur-Rehman\\\n",
    "Date: 21-03-2025\\\n",
    "Email: ijazfinance@gmail.com"
   ]
  },
  {
   "cell_type": "markdown",
   "metadata": {},
   "source": [
    "## Machine Learning"
   ]
  },
  {
   "cell_type": "markdown",
   "metadata": {},
   "source": [
    "- Machine Learning (ML) is a branch of artificial intelligence (AI) that enables computers to learn from data and make decisions or predictions without being explicitly programmed. Instead of following predefined rules, ML algorithms analyze patterns in data and improve their performance over time."
   ]
  },
  {
   "cell_type": "markdown",
   "metadata": {},
   "source": [
    "### Types of Machine Learning\n",
    "1. Supervised Learning – The algorithm is trained on labeled data, meaning it learns from input-output pairs.\n",
    "    - Examples: Spam detection, fraud detection, image classification.\n",
    "2. Unsupervised Learning – The algorithm identifies patterns in data without predefined labels.\n",
    "    - Examples: Customer segmentation, anomaly detection, recommendation systems.\n",
    "3. Reinforcement Learning – The model learns by interacting with an environment and receiving rewards or penalties.\n",
    "    - Examples: Robotics, self-driving cars, game playing (e.g., AlphaGo)."
   ]
  },
  {
   "cell_type": "markdown",
   "metadata": {},
   "source": [
    "### Applications of Machine Learning\n",
    "- Finance: Fraud detection, stock price prediction.\n",
    "- Healthcare: Disease diagnosis, drug discovery.\n",
    "- Retail: Personalized recommendations, demand forecasting.\n",
    "- Manufacturing: Predictive maintenance, quality control.\n",
    "- Supply Chain & Logistics: Route optimization, inventory management."
   ]
  }
 ],
 "metadata": {
  "kernelspec": {
   "display_name": "Python 3",
   "language": "python",
   "name": "python3"
  },
  "language_info": {
   "codemirror_mode": {
    "name": "ipython",
    "version": 3
   },
   "file_extension": ".py",
   "mimetype": "text/x-python",
   "name": "python",
   "nbconvert_exporter": "python",
   "pygments_lexer": "ipython3",
   "version": "3.13.2"
  }
 },
 "nbformat": 4,
 "nbformat_minor": 2
}
