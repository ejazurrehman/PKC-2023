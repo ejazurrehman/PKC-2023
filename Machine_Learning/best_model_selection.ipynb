{
 "cells": [
  {
   "cell_type": "markdown",
   "metadata": {},
   "source": [
    "## Best Model Selection\n",
    "Author: Ejaz-ur-Rehman\\\n",
    "Date Created: 26-03-2025\\\n",
    "Email ID: ijazfinance@gmail.com"
   ]
  },
  {
   "cell_type": "code",
   "execution_count": 1,
   "metadata": {},
   "outputs": [],
   "source": [
    "import pandas as pd\n",
    "import numpy as np\n",
    "import matplotlib.pyplot as plt\n",
    "import seaborn as sns"
   ]
  },
  {
   "cell_type": "code",
   "execution_count": 7,
   "metadata": {},
   "outputs": [
    {
     "name": "stderr",
     "output_type": "stream",
     "text": [
      "C:\\Users\\DELL\\AppData\\Local\\Temp\\ipykernel_18528\\3465880166.py:9: FutureWarning: A value is trying to be set on a copy of a DataFrame or Series through chained assignment using an inplace method.\n",
      "The behavior will change in pandas 3.0. This inplace method will never work because the intermediate object on which we are setting values always behaves as a copy.\n",
      "\n",
      "For example, when doing 'df[col].method(value, inplace=True)', try using 'df.method({col: value}, inplace=True)' or df[col] = df[col].method(value) instead, to perform the operation inplace on the original object.\n",
      "\n",
      "\n",
      "  X.age.fillna(value=X['age'].mean(), inplace=True)\n"
     ]
    },
    {
     "name": "stdout",
     "output_type": "stream",
     "text": [
      "Accuracy Score: Logistic Regression:  0.81\n",
      "Accuracy Score: Random Forest:  0.80\n",
      "Accuracy Score: Decision Tree:  0.75\n",
      "Accuracy Score: KNN:  0.69\n",
      "Accuracy Score: SVM:  0.66\n"
     ]
    }
   ],
   "source": [
    "# load the data set\n",
    "df = sns.load_dataset('titanic')\n",
    "# define X and y\n",
    "X = df[['age', 'fare', 'pclass', 'sex', 'sibsp', 'parch']]\n",
    "y = df['survived']\n",
    "# labele encoding\n",
    "X = pd.get_dummies(X, columns=['sex'])\n",
    "# impute missing values with mean\n",
    "X.age.fillna(value=X['age'].mean(), inplace=True)\n",
    "\n",
    "# getting models from Sklearn\n",
    "from sklearn.linear_model import LogisticRegression\n",
    "from sklearn.svm import SVC\n",
    "from sklearn.tree import DecisionTreeClassifier\n",
    "from sklearn.ensemble import RandomForestClassifier\n",
    "from sklearn.neighbors import KNeighborsClassifier\n",
    "\n",
    "# choose the matrics\n",
    "from sklearn.metrics import accuracy_score, f1_score, precision_score, recall_score\n",
    "# model selection\n",
    "from sklearn.model_selection import train_test_split\n",
    "\n",
    "# define the models split\n",
    "X_train, X_test, y_train, y_test = train_test_split(X, y, test_size=0.2, random_state=42)\n",
    "\n",
    "# list of model used\n",
    "models = [LogisticRegression(), SVC(), DecisionTreeClassifier(), RandomForestClassifier(), KNeighborsClassifier()]\n",
    "model_names = ['Logistic Regression', 'SVM', 'Decision Tree', 'Random Forest', 'KNN']\n",
    "\n",
    "model_scores = []\n",
    "for model, model_name in zip(models, model_names):\n",
    "    # fit the model\n",
    "    model.fit(X_train, y_train)\n",
    "    # make predictions\n",
    "    y_pred = model.predict(X_test)\n",
    "    accuracy = accuracy_score(y_test, y_pred)\n",
    "    model_scores.append ((model_name, accuracy))\n",
    "\n",
    "sorted_models = sorted(model_scores, key=lambda x: x[1], reverse=True)\n",
    "for model in sorted_models:\n",
    "    print(\"Accuracy Score:\", f'{model[0]}: {model[1]: .2f}')\n",
    "\n"
   ]
  },
  {
   "cell_type": "code",
   "execution_count": 8,
   "metadata": {},
   "outputs": [
    {
     "name": "stdout",
     "output_type": "stream",
     "text": [
      "Percision Score: Logistic Regression:  0.80\n",
      "Percision Score: Random Forest:  0.78\n",
      "Percision Score: SVM:  0.76\n",
      "Percision Score: Decision Tree:  0.73\n",
      "Percision Score: KNN:  0.66\n"
     ]
    }
   ],
   "source": [
    "models = [LogisticRegression(), SVC(), DecisionTreeClassifier(), RandomForestClassifier(), KNeighborsClassifier()]\n",
    "model_names = ['Logistic Regression', 'SVM', 'Decision Tree', 'Random Forest', 'KNN']\n",
    "\n",
    "model_scores = []\n",
    "for model, model_name in zip(models, model_names):\n",
    "    # fit the model\n",
    "    model.fit(X_train, y_train)\n",
    "    # make predictions\n",
    "    y_pred = model.predict(X_test)\n",
    "    Percision = precision_score(y_test, y_pred)\n",
    "    model_scores.append ((model_name, Percision))\n",
    "\n",
    "sorted_models = sorted(model_scores, key=lambda x: x[1], reverse=True)\n",
    "for model in sorted_models:\n",
    "    print(\"Percision Score:\", f'{model[0]}: {model[1]: .2f}')"
   ]
  },
  {
   "cell_type": "code",
   "execution_count": 9,
   "metadata": {},
   "outputs": [
    {
     "name": "stdout",
     "output_type": "stream",
     "text": [
      "Recall Score: Logistic Regression:  0.72\n",
      "Recall Score: Decision Tree:  0.72\n",
      "Recall Score: Random Forest:  0.72\n",
      "Recall Score: KNN:  0.54\n",
      "Recall Score: SVM:  0.26\n"
     ]
    }
   ],
   "source": [
    "models = [LogisticRegression(), SVC(), DecisionTreeClassifier(), RandomForestClassifier(), KNeighborsClassifier()]\n",
    "model_names = ['Logistic Regression', 'SVM', 'Decision Tree', 'Random Forest', 'KNN']\n",
    "\n",
    "model_scores = []\n",
    "for model, model_name in zip(models, model_names):\n",
    "    # fit the model\n",
    "    model.fit(X_train, y_train)\n",
    "    # make predictions\n",
    "    y_pred = model.predict(X_test)\n",
    "    Recall = recall_score(y_test, y_pred)\n",
    "    model_scores.append ((model_name, Recall))\n",
    "\n",
    "sorted_models = sorted(model_scores, key=lambda x: x[1], reverse=True)\n",
    "for model in sorted_models:\n",
    "    print(\"Recall Score:\", f'{model[0]}: {model[1]: .2f}')"
   ]
  },
  {
   "cell_type": "code",
   "execution_count": 10,
   "metadata": {},
   "outputs": [
    {
     "name": "stdout",
     "output_type": "stream",
     "text": [
      "F1 Score: Logistic Regression:  0.76\n",
      "F1 Score: Random Forest:  0.75\n",
      "F1 Score: Decision Tree:  0.70\n",
      "F1 Score: KNN:  0.59\n",
      "F1 Score: SVM:  0.38\n"
     ]
    }
   ],
   "source": [
    "models = [LogisticRegression(), SVC(), DecisionTreeClassifier(), RandomForestClassifier(), KNeighborsClassifier()]\n",
    "model_names = ['Logistic Regression', 'SVM', 'Decision Tree', 'Random Forest', 'KNN']\n",
    "\n",
    "model_scores = []\n",
    "for model, model_name in zip(models, model_names):\n",
    "    # fit the model\n",
    "    model.fit(X_train, y_train)\n",
    "    # make predictions\n",
    "    y_pred = model.predict(X_test)\n",
    "    F1 = f1_score(y_test, y_pred)\n",
    "    model_scores.append ((model_name, F1))\n",
    "\n",
    "sorted_models = sorted(model_scores, key=lambda x: x[1], reverse=True)\n",
    "for model in sorted_models:\n",
    "    print(\"F1 Score:\", f'{model[0]}: {model[1]: .2f}')"
   ]
  }
 ],
 "metadata": {
  "kernelspec": {
   "display_name": "Python 3",
   "language": "python",
   "name": "python3"
  },
  "language_info": {
   "codemirror_mode": {
    "name": "ipython",
    "version": 3
   },
   "file_extension": ".py",
   "mimetype": "text/x-python",
   "name": "python",
   "nbconvert_exporter": "python",
   "pygments_lexer": "ipython3",
   "version": "3.13.2"
  }
 },
 "nbformat": 4,
 "nbformat_minor": 2
}
