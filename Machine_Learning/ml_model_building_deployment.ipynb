{
 "cells": [
  {
   "cell_type": "markdown",
   "metadata": {},
   "source": [
    "## ML Model Building & Deployment\n",
    "Author: Ejaz-ur-Rehman\\\n",
    "Date Created: 25-03-2025\\\n",
    "Email ID: ijazfinance@gmail.com"
   ]
  },
  {
   "cell_type": "markdown",
   "metadata": {},
   "source": [
    "### Steps involved in Model Building:\n",
    "1. Define the prblem\n",
    "2. Data Collection / Gathering\n",
    "3. Data Preprocessing\n",
    "4. Selection of a Model\n",
    "5. Spliting the Data\n",
    "6. Evaluating the Model\n",
    "7. Hyper Parameter Tuning\n",
    "8. Cross Validation - to optimize the model accuracy\n",
    "9. Model Finalization\n",
    "10. Model Deployment\n",
    "11. Retesting, Refining, Updating the Model"
   ]
  },
  {
   "cell_type": "markdown",
   "metadata": {},
   "source": [
    "### what is Algorithm?\n",
    "An algorithm is a set of instructions that is used to solve a problem or perform a specific task. It is a well-defined procedure that takes some input and produces a corresponding output. Algorithms are used in a wide range of fields, including computer science, mathematics, and engineering. They can be expressed in various forms, such as natural language, flowcharts, or programming languages. The key characteristics of an algorithm include:\n",
    "1.  **Input**: An algorithm takes some input, which can be in the form of data , numbers, or other information. \n",
    "2.  **Output**: An algorithm produces a corresponding output, which can be in the form of a solution , a result, or a transformed input.\n",
    "3.  **Finiteness**: An algorithm must terminate after a finite number of steps.\n",
    "4.  **Definiteness**: Each step of an algorithm must be well-defined and unambiguous.\n",
    "5.  **Effectiveness**: An algorithm must be able to solve the problem it is designed to solve.\n",
    "6.  **Feasibility**: An algorithm must be able to be implemented and executed using available resources.\n",
    "7.  **Correctness**: An algorithm must produce the correct output for a given input.\n",
    "8.  **Efficiency**: An algorithm should be able to solve the problem in a reasonable amount of time without consuming excessive resources.\n",
    "9.  **Scalability**: An algorithm should be able to handle large inputs and produce the correct output without significant degradation in performance.\n",
    "10.  **Maintainability**: An algorithm should be easy to understand, modify, and maintain.\n",
    "11.  **Testability**: An algorithm should be easy to test and verify its correctness.\n",
    "12.  **Reusability**: An algorithm should be able to be reused in different contexts and applications.\n",
    "13.  **Flexibility**: An algorithm should be able to adapt to changing requirements and inputs.\n",
    "14.  **Robustness**: An algorithm should be able to handle unexpected inputs and errors without crashing or producing incorrect results.\n",
    "15.  **Security**: An algorithm should be able to protect sensitive data and prevent unauthorized access.\n",
    "16.  **Transparency**: An algorithm should be transparent in its operation and decision-making process.\n",
    "17.  **Accountability**: An algorithm should be accountable for its actions and decisions.\n",
    "18.  **Auditability**: An algorithm should be able to provide a clear audit trail of its actions and decisions.\n",
    "19.  **Compliance**: An algorithm should comply with relevant laws, regulations, and standards.\n",
    "20.  **Sustainability**: An algorithm should be sustainable and environmentally friendly.\n",
    "21.  **Inclusivity**: An algorithm should be inclusive and accessible to all users, regardless of their background, culture, or ability.\n",
    "22.  **Accessibility**: An algorithm should be accessible and usable by people with disabilities.\n",
    "23.  **Usability**: An algorithm should be easy to use and understand, with a user-friendly interfac.\n"
   ]
  },
  {
   "cell_type": "markdown",
   "metadata": {},
   "source": [
    "### Testing Data\n",
    "The testing data is used to evaluate the performance of the model. The testing data is a subset of the training data, and it is used to get an estimate of how the model will perform on unse ens data.\n",
    "\n",
    "### Trainning Data\n",
    "The training data is used to train the model. The training data is a subset of the entire dataset , and it is used to train the model to make predictions on new, unseen data. "
   ]
  },
  {
   "cell_type": "markdown",
   "metadata": {},
   "source": [
    "### Features\n",
    "- **Easy to use**: The library is designed to be easy to use, with a simple and intuitive API.\n",
    "-  **Highly customizable**: The library allows for a high degree of customization, with many options for configuring the behavior of the library.\n",
    "-  **Fast and efficient**: The library is designed to be fast and efficient, with a focus on minimizing overhead and maximizing performance."
   ]
  },
  {
   "cell_type": "markdown",
   "metadata": {},
   "source": [
    "### Labels\n",
    "Label is the output or target variable that a model is trained to predict. Labels represent the correct answer or ground truth in a supervised learning problem."
   ]
  },
  {
   "cell_type": "markdown",
   "metadata": {},
   "source": [
    "### Overfitting\n",
    "Overfitting occurs when a model is too complex and fits the training data too closely. This can result in poor performance on unseen data. To prevent overfitting, we can use techniques such as regularization, early stopping, and cross-validation."
   ]
  },
  {
   "cell_type": "markdown",
   "metadata": {},
   "source": [
    "### Underfitting\n",
    "Underfitting occurs when the model is too simple and cannot capture the underlying patterns in the data. This can lead to poor predictions and a high error rate."
   ]
  },
  {
   "cell_type": "markdown",
   "metadata": {},
   "source": [
    "### Data Preprocessing\n",
    "The data was preprocessed to ensure that it was in a suitable format for analysis. The data was cleaned by removing any missing values and handling any inconsistencies in the data. The data was then split into training and testing sets to evaluate the performance of the model. The training set was used to train the model, and the testing set was used to evaluate its performance."
   ]
  },
  {
   "cell_type": "markdown",
   "metadata": {},
   "source": [
    "### Missing Values Handling\n",
    "Missing values are a common problem in data analysis. There are several ways to handle missing values, including : \n",
    "1.  **Listwise Deletion**: This method involves deleting all rows that contain missing values.\n",
    "2.  **Pairwise Deletion**: This method involves deleting only the rows that contain missing values for the specific variables being analyzed.\n",
    "3.  **Mean/Median Imputation**: This method involves replacing missing values with the mean or median of the variable.\n",
    "4.   **Regression Imputation**: This method involves using a regression model to predict the missing values.\n",
    "5.   **K-Nearest Neighbors (KNN) Imputation**: This method involves using the KNN algorithm to predict the missing values based on the values of similar observations.\n",
    "6.   **Multiple Imputation**: This method involves creating multiple versions of the dataset with different imputed values for the missing data.\n",
    "7.   **Last Observation Carried Forward (LOCF)**: This method involves carrying forward the last observed value for a variable to replace missing values.\n",
    "8.   **Next Observation Carried Forward (NOCF)**: This method involves carrying forward the next observed value for a variable to replace missing values.\n",
    "9.   **Cold Deck Imputation**: This method involves replacing missing values with a value from a similar observation."
   ]
  },
  {
   "cell_type": "markdown",
   "metadata": {},
   "source": [
    "### Six Important ways for Imputing Missing Values"
   ]
  },
  {
   "cell_type": "markdown",
   "metadata": {},
   "source": [
    "1. Simple Imputation Technique:\n",
    "   - This technique involves replacing missing values with a simple imputation value. For example, if a value is missing, it can be  replaced with the mean or median or mode of the respective feature. This technique is simple to implement but may not be effective for all types of data. \n",
    "2. K-Nearest Neighbors (KNN) Imputation:\n",
    "   - This technique involves finding the K-nearest neighbors to the data point with missing values and then imputing the missing values based on the values of these neighbors. This technique is more effective than simple imputation but can be computationally expensive for large datasets.\n",
    "3. Regression Imputation:\n",
    "   - This technique involves using a regression model to predict the missing values. This technique is more effective than simple imputation but requires a good understanding of the relationships between the features. \n",
    "4. Decision Tree Imputation:\n",
    "   - This technique involves using a decision tree to predict the missing values. This technique is more effective than simple imputation but can be computationally expensive for large datasets. \n",
    "5. Multiple Imputation by Chained Equations (MICE):\n",
    "   - This technique involves using a series of regression models to impute the missing values. This technique is more effective than simple imputation but can be computationally expensive for large datasets.\n",
    "6. Deep Learning Imputation:\n",
    "   - This technique involves using deep learning models such as neural networks to impute the missing values. This technique is more effective than simple imputation but requires a good understanding of deep learning concepts.\n",
    "7. Time Series Effective Method:\n",
    "   - This technique involves using time series analysis to impute the missing values. This technique is more effective than simple imputation but requires a good understanding of time series concepts.\n",
    "   "
   ]
  },
  {
   "cell_type": "code",
   "execution_count": 1,
   "metadata": {},
   "outputs": [],
   "source": [
    "import pandas as pd\n",
    "import numpy as np\n",
    "import matplotlib.pyplot as plt\n",
    "import seaborn as sns"
   ]
  },
  {
   "cell_type": "code",
   "execution_count": 4,
   "metadata": {},
   "outputs": [
    {
     "data": {
      "text/html": [
       "<div>\n",
       "<style scoped>\n",
       "    .dataframe tbody tr th:only-of-type {\n",
       "        vertical-align: middle;\n",
       "    }\n",
       "\n",
       "    .dataframe tbody tr th {\n",
       "        vertical-align: top;\n",
       "    }\n",
       "\n",
       "    .dataframe thead th {\n",
       "        text-align: right;\n",
       "    }\n",
       "</style>\n",
       "<table border=\"1\" class=\"dataframe\">\n",
       "  <thead>\n",
       "    <tr style=\"text-align: right;\">\n",
       "      <th></th>\n",
       "      <th>survived</th>\n",
       "      <th>pclass</th>\n",
       "      <th>sex</th>\n",
       "      <th>age</th>\n",
       "      <th>sibsp</th>\n",
       "      <th>parch</th>\n",
       "      <th>fare</th>\n",
       "      <th>embarked</th>\n",
       "      <th>class</th>\n",
       "      <th>who</th>\n",
       "      <th>adult_male</th>\n",
       "      <th>deck</th>\n",
       "      <th>embark_town</th>\n",
       "      <th>alive</th>\n",
       "      <th>alone</th>\n",
       "    </tr>\n",
       "  </thead>\n",
       "  <tbody>\n",
       "    <tr>\n",
       "      <th>0</th>\n",
       "      <td>0</td>\n",
       "      <td>3</td>\n",
       "      <td>male</td>\n",
       "      <td>22.0</td>\n",
       "      <td>1</td>\n",
       "      <td>0</td>\n",
       "      <td>7.2500</td>\n",
       "      <td>S</td>\n",
       "      <td>Third</td>\n",
       "      <td>man</td>\n",
       "      <td>True</td>\n",
       "      <td>NaN</td>\n",
       "      <td>Southampton</td>\n",
       "      <td>no</td>\n",
       "      <td>False</td>\n",
       "    </tr>\n",
       "    <tr>\n",
       "      <th>1</th>\n",
       "      <td>1</td>\n",
       "      <td>1</td>\n",
       "      <td>female</td>\n",
       "      <td>38.0</td>\n",
       "      <td>1</td>\n",
       "      <td>0</td>\n",
       "      <td>71.2833</td>\n",
       "      <td>C</td>\n",
       "      <td>First</td>\n",
       "      <td>woman</td>\n",
       "      <td>False</td>\n",
       "      <td>C</td>\n",
       "      <td>Cherbourg</td>\n",
       "      <td>yes</td>\n",
       "      <td>False</td>\n",
       "    </tr>\n",
       "    <tr>\n",
       "      <th>2</th>\n",
       "      <td>1</td>\n",
       "      <td>3</td>\n",
       "      <td>female</td>\n",
       "      <td>26.0</td>\n",
       "      <td>0</td>\n",
       "      <td>0</td>\n",
       "      <td>7.9250</td>\n",
       "      <td>S</td>\n",
       "      <td>Third</td>\n",
       "      <td>woman</td>\n",
       "      <td>False</td>\n",
       "      <td>NaN</td>\n",
       "      <td>Southampton</td>\n",
       "      <td>yes</td>\n",
       "      <td>True</td>\n",
       "    </tr>\n",
       "    <tr>\n",
       "      <th>3</th>\n",
       "      <td>1</td>\n",
       "      <td>1</td>\n",
       "      <td>female</td>\n",
       "      <td>35.0</td>\n",
       "      <td>1</td>\n",
       "      <td>0</td>\n",
       "      <td>53.1000</td>\n",
       "      <td>S</td>\n",
       "      <td>First</td>\n",
       "      <td>woman</td>\n",
       "      <td>False</td>\n",
       "      <td>C</td>\n",
       "      <td>Southampton</td>\n",
       "      <td>yes</td>\n",
       "      <td>False</td>\n",
       "    </tr>\n",
       "    <tr>\n",
       "      <th>4</th>\n",
       "      <td>0</td>\n",
       "      <td>3</td>\n",
       "      <td>male</td>\n",
       "      <td>35.0</td>\n",
       "      <td>0</td>\n",
       "      <td>0</td>\n",
       "      <td>8.0500</td>\n",
       "      <td>S</td>\n",
       "      <td>Third</td>\n",
       "      <td>man</td>\n",
       "      <td>True</td>\n",
       "      <td>NaN</td>\n",
       "      <td>Southampton</td>\n",
       "      <td>no</td>\n",
       "      <td>True</td>\n",
       "    </tr>\n",
       "  </tbody>\n",
       "</table>\n",
       "</div>"
      ],
      "text/plain": [
       "   survived  pclass     sex   age  sibsp  parch     fare embarked  class  \\\n",
       "0         0       3    male  22.0      1      0   7.2500        S  Third   \n",
       "1         1       1  female  38.0      1      0  71.2833        C  First   \n",
       "2         1       3  female  26.0      0      0   7.9250        S  Third   \n",
       "3         1       1  female  35.0      1      0  53.1000        S  First   \n",
       "4         0       3    male  35.0      0      0   8.0500        S  Third   \n",
       "\n",
       "     who  adult_male deck  embark_town alive  alone  \n",
       "0    man        True  NaN  Southampton    no  False  \n",
       "1  woman       False    C    Cherbourg   yes  False  \n",
       "2  woman       False  NaN  Southampton   yes   True  \n",
       "3  woman       False    C  Southampton   yes  False  \n",
       "4    man        True  NaN  Southampton    no   True  "
      ]
     },
     "execution_count": 4,
     "metadata": {},
     "output_type": "execute_result"
    }
   ],
   "source": [
    "data = sns.load_dataset('titanic')\n",
    "data.head()"
   ]
  },
  {
   "cell_type": "code",
   "execution_count": 22,
   "metadata": {},
   "outputs": [
    {
     "data": {
      "text/plain": [
       "embark_town    2\n",
       "embarked       2\n",
       "sex            0\n",
       "age            0\n",
       "survived       0\n",
       "pclass         0\n",
       "parch          0\n",
       "sibsp          0\n",
       "class          0\n",
       "fare           0\n",
       "who            0\n",
       "adult_male     0\n",
       "alive          0\n",
       "alone          0\n",
       "dtype: int64"
      ]
     },
     "execution_count": 22,
     "metadata": {},
     "output_type": "execute_result"
    }
   ],
   "source": [
    "# find missing values\n",
    "data.isnull().sum().sort_values(ascending=False)"
   ]
  },
  {
   "cell_type": "code",
   "execution_count": 13,
   "metadata": {},
   "outputs": [],
   "source": [
    "# drop deck column\n",
    "data.drop('deck', axis=1, inplace=True, errors='ignore')\n",
    "\n"
   ]
  },
  {
   "cell_type": "code",
   "execution_count": 14,
   "metadata": {},
   "outputs": [
    {
     "data": {
      "text/html": [
       "<div>\n",
       "<style scoped>\n",
       "    .dataframe tbody tr th:only-of-type {\n",
       "        vertical-align: middle;\n",
       "    }\n",
       "\n",
       "    .dataframe tbody tr th {\n",
       "        vertical-align: top;\n",
       "    }\n",
       "\n",
       "    .dataframe thead th {\n",
       "        text-align: right;\n",
       "    }\n",
       "</style>\n",
       "<table border=\"1\" class=\"dataframe\">\n",
       "  <thead>\n",
       "    <tr style=\"text-align: right;\">\n",
       "      <th></th>\n",
       "      <th>survived</th>\n",
       "      <th>pclass</th>\n",
       "      <th>sex</th>\n",
       "      <th>age</th>\n",
       "      <th>sibsp</th>\n",
       "      <th>parch</th>\n",
       "      <th>fare</th>\n",
       "      <th>embarked</th>\n",
       "      <th>class</th>\n",
       "      <th>who</th>\n",
       "      <th>adult_male</th>\n",
       "      <th>embark_town</th>\n",
       "      <th>alive</th>\n",
       "      <th>alone</th>\n",
       "    </tr>\n",
       "  </thead>\n",
       "  <tbody>\n",
       "    <tr>\n",
       "      <th>0</th>\n",
       "      <td>0</td>\n",
       "      <td>3</td>\n",
       "      <td>male</td>\n",
       "      <td>22.0</td>\n",
       "      <td>1</td>\n",
       "      <td>0</td>\n",
       "      <td>7.2500</td>\n",
       "      <td>S</td>\n",
       "      <td>Third</td>\n",
       "      <td>man</td>\n",
       "      <td>True</td>\n",
       "      <td>Southampton</td>\n",
       "      <td>no</td>\n",
       "      <td>False</td>\n",
       "    </tr>\n",
       "    <tr>\n",
       "      <th>1</th>\n",
       "      <td>1</td>\n",
       "      <td>1</td>\n",
       "      <td>female</td>\n",
       "      <td>38.0</td>\n",
       "      <td>1</td>\n",
       "      <td>0</td>\n",
       "      <td>71.2833</td>\n",
       "      <td>C</td>\n",
       "      <td>First</td>\n",
       "      <td>woman</td>\n",
       "      <td>False</td>\n",
       "      <td>Cherbourg</td>\n",
       "      <td>yes</td>\n",
       "      <td>False</td>\n",
       "    </tr>\n",
       "    <tr>\n",
       "      <th>2</th>\n",
       "      <td>1</td>\n",
       "      <td>3</td>\n",
       "      <td>female</td>\n",
       "      <td>26.0</td>\n",
       "      <td>0</td>\n",
       "      <td>0</td>\n",
       "      <td>7.9250</td>\n",
       "      <td>S</td>\n",
       "      <td>Third</td>\n",
       "      <td>woman</td>\n",
       "      <td>False</td>\n",
       "      <td>Southampton</td>\n",
       "      <td>yes</td>\n",
       "      <td>True</td>\n",
       "    </tr>\n",
       "    <tr>\n",
       "      <th>3</th>\n",
       "      <td>1</td>\n",
       "      <td>1</td>\n",
       "      <td>female</td>\n",
       "      <td>35.0</td>\n",
       "      <td>1</td>\n",
       "      <td>0</td>\n",
       "      <td>53.1000</td>\n",
       "      <td>S</td>\n",
       "      <td>First</td>\n",
       "      <td>woman</td>\n",
       "      <td>False</td>\n",
       "      <td>Southampton</td>\n",
       "      <td>yes</td>\n",
       "      <td>False</td>\n",
       "    </tr>\n",
       "    <tr>\n",
       "      <th>4</th>\n",
       "      <td>0</td>\n",
       "      <td>3</td>\n",
       "      <td>male</td>\n",
       "      <td>35.0</td>\n",
       "      <td>0</td>\n",
       "      <td>0</td>\n",
       "      <td>8.0500</td>\n",
       "      <td>S</td>\n",
       "      <td>Third</td>\n",
       "      <td>man</td>\n",
       "      <td>True</td>\n",
       "      <td>Southampton</td>\n",
       "      <td>no</td>\n",
       "      <td>True</td>\n",
       "    </tr>\n",
       "  </tbody>\n",
       "</table>\n",
       "</div>"
      ],
      "text/plain": [
       "   survived  pclass     sex   age  sibsp  parch     fare embarked  class  \\\n",
       "0         0       3    male  22.0      1      0   7.2500        S  Third   \n",
       "1         1       1  female  38.0      1      0  71.2833        C  First   \n",
       "2         1       3  female  26.0      0      0   7.9250        S  Third   \n",
       "3         1       1  female  35.0      1      0  53.1000        S  First   \n",
       "4         0       3    male  35.0      0      0   8.0500        S  Third   \n",
       "\n",
       "     who  adult_male  embark_town alive  alone  \n",
       "0    man        True  Southampton    no  False  \n",
       "1  woman       False    Cherbourg   yes  False  \n",
       "2  woman       False  Southampton   yes   True  \n",
       "3  woman       False  Southampton   yes  False  \n",
       "4    man        True  Southampton    no   True  "
      ]
     },
     "execution_count": 14,
     "metadata": {},
     "output_type": "execute_result"
    }
   ],
   "source": [
    "data.head()"
   ]
  },
  {
   "cell_type": "code",
   "execution_count": 16,
   "metadata": {},
   "outputs": [
    {
     "data": {
      "text/plain": [
       "embark_town    2\n",
       "embarked       2\n",
       "sex            0\n",
       "age            0\n",
       "survived       0\n",
       "pclass         0\n",
       "parch          0\n",
       "sibsp          0\n",
       "class          0\n",
       "fare           0\n",
       "who            0\n",
       "adult_male     0\n",
       "alive          0\n",
       "alone          0\n",
       "dtype: int64"
      ]
     },
     "execution_count": 16,
     "metadata": {},
     "output_type": "execute_result"
    }
   ],
   "source": [
    "# impute missing values with mean\n",
    "data['age'] = data['age'].fillna(data['age'].mean())\n",
    "\n",
    "# check the number of missing values in each column\n",
    "data.isnull().sum().sort_values(ascending=False)"
   ]
  }
 ],
 "metadata": {
  "kernelspec": {
   "display_name": "Python 3",
   "language": "python",
   "name": "python3"
  },
  "language_info": {
   "codemirror_mode": {
    "name": "ipython",
    "version": 3
   },
   "file_extension": ".py",
   "mimetype": "text/x-python",
   "name": "python",
   "nbconvert_exporter": "python",
   "pygments_lexer": "ipython3",
   "version": "3.13.2"
  }
 },
 "nbformat": 4,
 "nbformat_minor": 2
}
