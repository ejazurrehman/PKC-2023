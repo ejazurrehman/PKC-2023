{
 "cells": [
  {
   "cell_type": "markdown",
   "metadata": {},
   "source": [
    "## Multi Linear Regression\n",
    "Author: Ejaz-ur-Rehman\\\n",
    "Date Created: 25-03-2025\\\n",
    "Email ID: ijazfinance@gmail.com"
   ]
  },
  {
   "cell_type": "code",
   "execution_count": 1,
   "metadata": {},
   "outputs": [],
   "source": [
    "# Step 1: Import Necessary Libraries\n",
    "import pandas as pd\n",
    "import numpy as np\n",
    "import matplotlib.pyplot as plt\n",
    "import seaborn as sns\n",
    "from sklearn.model_selection import train_test_split\n",
    "from sklearn.linear_model import LinearRegression\n",
    "from sklearn.metrics import mean_squared_error, r2_score\n",
    "from sklearn.datasets import load_iris\n"
   ]
  },
  {
   "cell_type": "markdown",
   "metadata": {},
   "source": [
    "- The Iris dataset is a built-in dataset in sklearn. It contains 150 samples of iris flowers with four features:\n",
    "1. Sepal length\n",
    "2. Sepal width\n",
    "3. Petal length\n",
    "4. Petal width\n",
    "- The target variable is the species, but we will predict petal length based on the other three features."
   ]
  },
  {
   "cell_type": "code",
   "execution_count": 2,
   "metadata": {},
   "outputs": [
    {
     "data": {
      "text/html": [
       "<div>\n",
       "<style scoped>\n",
       "    .dataframe tbody tr th:only-of-type {\n",
       "        vertical-align: middle;\n",
       "    }\n",
       "\n",
       "    .dataframe tbody tr th {\n",
       "        vertical-align: top;\n",
       "    }\n",
       "\n",
       "    .dataframe thead th {\n",
       "        text-align: right;\n",
       "    }\n",
       "</style>\n",
       "<table border=\"1\" class=\"dataframe\">\n",
       "  <thead>\n",
       "    <tr style=\"text-align: right;\">\n",
       "      <th></th>\n",
       "      <th>sepal_length</th>\n",
       "      <th>sepal_width</th>\n",
       "      <th>petal_length</th>\n",
       "      <th>petal_width</th>\n",
       "    </tr>\n",
       "  </thead>\n",
       "  <tbody>\n",
       "    <tr>\n",
       "      <th>0</th>\n",
       "      <td>5.1</td>\n",
       "      <td>3.5</td>\n",
       "      <td>1.4</td>\n",
       "      <td>0.2</td>\n",
       "    </tr>\n",
       "    <tr>\n",
       "      <th>1</th>\n",
       "      <td>4.9</td>\n",
       "      <td>3.0</td>\n",
       "      <td>1.4</td>\n",
       "      <td>0.2</td>\n",
       "    </tr>\n",
       "    <tr>\n",
       "      <th>2</th>\n",
       "      <td>4.7</td>\n",
       "      <td>3.2</td>\n",
       "      <td>1.3</td>\n",
       "      <td>0.2</td>\n",
       "    </tr>\n",
       "    <tr>\n",
       "      <th>3</th>\n",
       "      <td>4.6</td>\n",
       "      <td>3.1</td>\n",
       "      <td>1.5</td>\n",
       "      <td>0.2</td>\n",
       "    </tr>\n",
       "    <tr>\n",
       "      <th>4</th>\n",
       "      <td>5.0</td>\n",
       "      <td>3.6</td>\n",
       "      <td>1.4</td>\n",
       "      <td>0.2</td>\n",
       "    </tr>\n",
       "  </tbody>\n",
       "</table>\n",
       "</div>"
      ],
      "text/plain": [
       "   sepal_length  sepal_width  petal_length  petal_width\n",
       "0           5.1          3.5           1.4          0.2\n",
       "1           4.9          3.0           1.4          0.2\n",
       "2           4.7          3.2           1.3          0.2\n",
       "3           4.6          3.1           1.5          0.2\n",
       "4           5.0          3.6           1.4          0.2"
      ]
     },
     "execution_count": 2,
     "metadata": {},
     "output_type": "execute_result"
    }
   ],
   "source": [
    "# Step 2: Load the Iris Dataset\n",
    "# Load the dataset\n",
    "iris = load_iris()\n",
    "df = pd.DataFrame(data=iris.data, columns=iris.feature_names)\n",
    "\n",
    "# Rename columns for better readability\n",
    "df.columns = ['sepal_length', 'sepal_width', 'petal_length', 'petal_width']\n",
    "\n",
    "# Display first five rows\n",
    "df.head()\n"
   ]
  },
  {
   "cell_type": "code",
   "execution_count": 3,
   "metadata": {},
   "outputs": [],
   "source": [
    "# Step 3: Define Features (X) and Target (y)\n",
    "# For multiple linear regression, we define:\n",
    "\n",
    "# X: Independent variables (predictors)\n",
    "# y: Dependent variable (response)\n",
    "\n",
    "# Here, we predict petal length using sepal length, sepal width, and petal width.\n",
    "X = df[['sepal_length', 'sepal_width', 'petal_width']]\n",
    "y = df['petal_length']\n"
   ]
  },
  {
   "cell_type": "code",
   "execution_count": 4,
   "metadata": {},
   "outputs": [],
   "source": [
    "# Step 4: Split Data into Training & Testing Sets\n",
    "X_train, X_test, y_train, y_test = train_test_split(X, y, test_size=0.2, random_state=42)\n"
   ]
  },
  {
   "cell_type": "code",
   "execution_count": 5,
   "metadata": {},
   "outputs": [
    {
     "name": "stdout",
     "output_type": "stream",
     "text": [
      "Intercept: -0.2621959025887062\n",
      "Coefficients: [ 0.72281463 -0.63581649  1.46752403]\n"
     ]
    }
   ],
   "source": [
    "# Step 5: Train the Multiple Linear Regression Model\n",
    "# Initialize the model\n",
    "model = LinearRegression()\n",
    "\n",
    "# Train the model\n",
    "model.fit(X_train, y_train)\n",
    "\n",
    "# Get model coefficients\n",
    "coefficients = model.coef_\n",
    "intercept = model.intercept_\n",
    "\n",
    "print(\"Intercept:\", intercept)\n",
    "print(\"Coefficients:\", coefficients)\n"
   ]
  },
  {
   "cell_type": "code",
   "execution_count": 6,
   "metadata": {},
   "outputs": [],
   "source": [
    "# Step 6: Make Predictions\n",
    "y_pred = model.predict(X_test)\n"
   ]
  },
  {
   "cell_type": "code",
   "execution_count": 7,
   "metadata": {},
   "outputs": [
    {
     "name": "stdout",
     "output_type": "stream",
     "text": [
      "Mean Squared Error: 0.1300162603138269\n",
      "Root Mean Squared Error: 0.3605776758395158\n",
      "R² Score: 0.9603293155857664\n"
     ]
    }
   ],
   "source": [
    "# Step 7: Evaluate Model Performance\n",
    "mse = mean_squared_error(y_test, y_pred)\n",
    "rmse = np.sqrt(mse)\n",
    "r2 = r2_score(y_test, y_pred)\n",
    "\n",
    "print(\"Mean Squared Error:\", mse)\n",
    "print(\"Root Mean Squared Error:\", rmse)\n",
    "print(\"R² Score:\", r2)\n"
   ]
  },
  {
   "cell_type": "code",
   "execution_count": 8,
   "metadata": {},
   "outputs": [
    {
     "data": {
      "image/png": "[encoded data removed]",
      "text/plain": [
       "<Figure size 800x600 with 1 Axes>"
      ]
     },
     "metadata": {},
     "output_type": "display_data"
    }
   ],
   "source": [
    "# Step 8: Visualize Predictions\n",
    "# 1. Scatter Plot of Actual vs. Predicted Values\n",
    "plt.figure(figsize=(8, 6))\n",
    "sns.scatterplot(x=y_test, y=y_pred, color=\"blue\", label=\"Predicted vs Actual\")\n",
    "plt.plot([y_test.min(), y_test.max()], [y_test.min(), y_test.max()], color='red', linestyle='--')  # Perfect Fit Line\n",
    "plt.xlabel(\"Actual Petal Length\")\n",
    "plt.ylabel(\"Predicted Petal Length\")\n",
    "plt.title(\"Actual vs Predicted Petal Length\")\n",
    "plt.legend()\n",
    "plt.show()\n"
   ]
  },
  {
   "cell_type": "code",
   "execution_count": 9,
   "metadata": {},
   "outputs": [
    {
     "data": {
      "image/png": "[encoded data removed]",
      "text/plain": [
       "<Figure size 800x600 with 1 Axes>"
      ]
     },
     "metadata": {},
     "output_type": "display_data"
    }
   ],
   "source": [
    "# 2. Residual Plot\n",
    "residuals = y_test - y_pred\n",
    "\n",
    "plt.figure(figsize=(8, 6))\n",
    "sns.histplot(residuals, bins=15, kde=True, color='purple')\n",
    "plt.axvline(x=0, color='red', linestyle='--')  # Centered at 0\n",
    "plt.xlabel(\"Residuals\")\n",
    "plt.ylabel(\"Frequency\")\n",
    "plt.title(\"Residuals Distribution\")\n",
    "plt.show()\n"
   ]
  },
  {
   "cell_type": "code",
   "execution_count": 10,
   "metadata": {},
   "outputs": [
    {
     "name": "stdout",
     "output_type": "stream",
     "text": [
      "Defaulting to user installation because normal site-packages is not writeable\n",
      "Collecting dash\n",
      "  Downloading dash-3.0.0-py3-none-any.whl.metadata (10 kB)\n",
      "Requirement already satisfied: plotly in c:\\users\\dell\\appdata\\local\\packages\\pythonsoftwarefoundation.python.3.13_qbz5n2kfra8p0\\localcache\\local-packages\\python313\\site-packages (5.24.1)\n",
      "Requirement already satisfied: pandas in c:\\users\\dell\\appdata\\local\\packages\\pythonsoftwarefoundation.python.3.13_qbz5n2kfra8p0\\localcache\\local-packages\\python313\\site-packages (2.2.3)\n",
      "Requirement already satisfied: scikit-learn in c:\\users\\dell\\appdata\\local\\packages\\pythonsoftwarefoundation.python.3.13_qbz5n2kfra8p0\\localcache\\local-packages\\python313\\site-packages (1.6.1)\n",
      "Collecting Flask<3.1,>=1.0.4 (from dash)\n",
      "  Downloading flask-3.0.3-py3-none-any.whl.metadata (3.2 kB)\n",
      "Collecting Werkzeug<3.1 (from dash)\n",
      "  Downloading werkzeug-3.0.6-py3-none-any.whl.metadata (3.7 kB)\n",
      "Collecting importlib-metadata (from dash)\n",
      "  Downloading importlib_metadata-8.6.1-py3-none-any.whl.metadata (4.7 kB)\n",
      "Collecting typing-extensions>=4.1.1 (from dash)\n",
      "  Downloading typing_extensions-4.12.2-py3-none-any.whl.metadata (3.0 kB)\n",
      "Collecting requests (from dash)\n",
      "  Downloading requests-2.32.3-py3-none-any.whl.metadata (4.6 kB)\n",
      "Collecting retrying (from dash)\n",
      "  Downloading retrying-1.3.4-py3-none-any.whl.metadata (6.9 kB)\n",
      "Requirement already satisfied: nest-asyncio in c:\\users\\dell\\appdata\\local\\packages\\pythonsoftwarefoundation.python.3.13_qbz5n2kfra8p0\\localcache\\local-packages\\python313\\site-packages (from dash) (1.6.0)\n",
      "Collecting setuptools (from dash)\n",
      "  Downloading setuptools-78.0.2-py3-none-any.whl.metadata (6.6 kB)\n",
      "Collecting stringcase>=1.2.0 (from dash)\n",
      "  Downloading stringcase-1.2.0.tar.gz (3.0 kB)\n",
      "  Installing build dependencies: started\n",
      "  Installing build dependencies: finished with status 'done'\n",
      "  Getting requirements to build wheel: started\n",
      "  Getting requirements to build wheel: finished with status 'done'\n",
      "  Preparing metadata (pyproject.toml): started\n",
      "  Preparing metadata (pyproject.toml): finished with status 'done'\n",
      "Requirement already satisfied: tenacity>=6.2.0 in c:\\users\\dell\\appdata\\local\\packages\\pythonsoftwarefoundation.python.3.13_qbz5n2kfra8p0\\localcache\\local-packages\\python313\\site-packages (from plotly) (9.0.0)\n",
      "Requirement already satisfied: packaging in c:\\users\\dell\\appdata\\local\\packages\\pythonsoftwarefoundation.python.3.13_qbz5n2kfra8p0\\localcache\\local-packages\\python313\\site-packages (from plotly) (24.2)\n",
      "Requirement already satisfied: numpy>=1.26.0 in c:\\users\\dell\\appdata\\local\\packages\\pythonsoftwarefoundation.python.3.13_qbz5n2kfra8p0\\localcache\\local-packages\\python313\\site-packages (from pandas) (2.2.2)\n",
      "Requirement already satisfied: python-dateutil>=2.8.2 in c:\\users\\dell\\appdata\\local\\packages\\pythonsoftwarefoundation.python.3.13_qbz5n2kfra8p0\\localcache\\local-packages\\python313\\site-packages (from pandas) (2.9.0.post0)\n",
      "Requirement already satisfied: pytz>=2020.1 in c:\\users\\dell\\appdata\\local\\packages\\pythonsoftwarefoundation.python.3.13_qbz5n2kfra8p0\\localcache\\local-packages\\python313\\site-packages (from pandas) (2024.2)\n",
      "Requirement already satisfied: tzdata>=2022.7 in c:\\users\\dell\\appdata\\local\\packages\\pythonsoftwarefoundation.python.3.13_qbz5n2kfra8p0\\localcache\\local-packages\\python313\\site-packages (from pandas) (2025.1)\n",
      "Requirement already satisfied: scipy>=1.6.0 in c:\\users\\dell\\appdata\\local\\packages\\pythonsoftwarefoundation.python.3.13_qbz5n2kfra8p0\\localcache\\local-packages\\python313\\site-packages (from scikit-learn) (1.15.1)\n",
      "Requirement already satisfied: joblib>=1.2.0 in c:\\users\\dell\\appdata\\local\\packages\\pythonsoftwarefoundation.python.3.13_qbz5n2kfra8p0\\localcache\\local-packages\\python313\\site-packages (from scikit-learn) (1.4.2)\n",
      "Requirement already satisfied: threadpoolctl>=3.1.0 in c:\\users\\dell\\appdata\\local\\packages\\pythonsoftwarefoundation.python.3.13_qbz5n2kfra8p0\\localcache\\local-packages\\python313\\site-packages (from scikit-learn) (3.6.0)\n",
      "Requirement already satisfied: Jinja2>=3.1.2 in c:\\users\\dell\\appdata\\local\\packages\\pythonsoftwarefoundation.python.3.13_qbz5n2kfra8p0\\localcache\\local-packages\\python313\\site-packages (from Flask<3.1,>=1.0.4->dash) (3.1.5)\n",
      "Collecting itsdangerous>=2.1.2 (from Flask<3.1,>=1.0.4->dash)\n",
      "  Downloading itsdangerous-2.2.0-py3-none-any.whl.metadata (1.9 kB)\n",
      "Collecting click>=8.1.3 (from Flask<3.1,>=1.0.4->dash)\n",
      "  Downloading click-8.1.8-py3-none-any.whl.metadata (2.3 kB)\n",
      "Collecting blinker>=1.6.2 (from Flask<3.1,>=1.0.4->dash)\n",
      "  Downloading blinker-1.9.0-py3-none-any.whl.metadata (1.6 kB)\n",
      "Requirement already satisfied: six>=1.5 in c:\\users\\dell\\appdata\\local\\packages\\pythonsoftwarefoundation.python.3.13_qbz5n2kfra8p0\\localcache\\local-packages\\python313\\site-packages (from python-dateutil>=2.8.2->pandas) (1.17.0)\n",
      "Requirement already satisfied: MarkupSafe>=2.1.1 in c:\\users\\dell\\appdata\\local\\packages\\pythonsoftwarefoundation.python.3.13_qbz5n2kfra8p0\\localcache\\local-packages\\python313\\site-packages (from Werkzeug<3.1->dash) (3.0.2)\n",
      "Collecting zipp>=3.20 (from importlib-metadata->dash)\n",
      "  Downloading zipp-3.21.0-py3-none-any.whl.metadata (3.7 kB)\n",
      "Collecting charset-normalizer<4,>=2 (from requests->dash)\n",
      "  Downloading charset_normalizer-3.4.1-cp313-cp313-win_amd64.whl.metadata (36 kB)\n",
      "Collecting idna<4,>=2.5 (from requests->dash)\n",
      "  Downloading idna-3.10-py3-none-any.whl.metadata (10 kB)\n",
      "Collecting urllib3<3,>=1.21.1 (from requests->dash)\n",
      "  Downloading urllib3-2.3.0-py3-none-any.whl.metadata (6.5 kB)\n",
      "Collecting certifi>=2017.4.17 (from requests->dash)\n",
      "  Downloading certifi-2025.1.31-py3-none-any.whl.metadata (2.5 kB)\n",
      "Requirement already satisfied: colorama in c:\\users\\dell\\appdata\\local\\packages\\pythonsoftwarefoundation.python.3.13_qbz5n2kfra8p0\\localcache\\local-packages\\python313\\site-packages (from click>=8.1.3->Flask<3.1,>=1.0.4->dash) (0.4.6)\n",
      "Downloading dash-3.0.0-py3-none-any.whl (8.0 MB)\n",
      "   ---------------------------------------- 0.0/8.0 MB ? eta -:--:--\n",
      "   ---------------------------------------- 0.0/8.0 MB ? eta -:--:--\n",
      "   - -------------------------------------- 0.3/8.0 MB ? eta -:--:--\n",
      "   ----- ---------------------------------- 1.0/8.0 MB 3.1 MB/s eta 0:00:03\n",
      "   --------- ------------------------------ 1.8/8.0 MB 3.5 MB/s eta 0:00:02\n",
      "   ----------- ---------------------------- 2.4/8.0 MB 3.2 MB/s eta 0:00:02\n",
      "   ------------------ --------------------- 3.7/8.0 MB 3.8 MB/s eta 0:00:02\n",
      "   --------------------- ------------------ 4.2/8.0 MB 3.6 MB/s eta 0:00:02\n",
      "   ----------------------- ---------------- 4.7/8.0 MB 3.8 MB/s eta 0:00:01\n",
      "   ----------------------------- ---------- 5.8/8.0 MB 3.6 MB/s eta 0:00:01\n",
      "   ----------------------------- ---------- 5.8/8.0 MB 3.6 MB/s eta 0:00:01\n",
      "   ----------------------------------- ---- 7.1/8.0 MB 3.6 MB/s eta 0:00:01\n",
      "   -------------------------------------- - 7.6/8.0 MB 3.4 MB/s eta 0:00:01\n",
      "   ---------------------------------------  7.9/8.0 MB 3.3 MB/s eta 0:00:01\n",
      "   ---------------------------------------- 8.0/8.0 MB 3.2 MB/s eta 0:00:00\n",
      "Downloading flask-3.0.3-py3-none-any.whl (101 kB)\n",
      "Downloading typing_extensions-4.12.2-py3-none-any.whl (37 kB)\n",
      "Downloading werkzeug-3.0.6-py3-none-any.whl (227 kB)\n",
      "Downloading importlib_metadata-8.6.1-py3-none-any.whl (26 kB)\n",
      "Downloading requests-2.32.3-py3-none-any.whl (64 kB)\n",
      "Downloading retrying-1.3.4-py3-none-any.whl (11 kB)\n",
      "Using cached setuptools-78.0.2-py3-none-any.whl (1.3 MB)\n",
      "Downloading blinker-1.9.0-py3-none-any.whl (8.5 kB)\n",
      "Downloading certifi-2025.1.31-py3-none-any.whl (166 kB)\n",
      "Downloading charset_normalizer-3.4.1-cp313-cp313-win_amd64.whl (102 kB)\n",
      "Downloading click-8.1.8-py3-none-any.whl (98 kB)\n",
      "Downloading idna-3.10-py3-none-any.whl (70 kB)\n",
      "Downloading itsdangerous-2.2.0-py3-none-any.whl (16 kB)\n",
      "Downloading urllib3-2.3.0-py3-none-any.whl (128 kB)\n",
      "Downloading zipp-3.21.0-py3-none-any.whl (9.6 kB)\n",
      "Building wheels for collected packages: stringcase\n",
      "  Building wheel for stringcase (pyproject.toml): started\n",
      "  Building wheel for stringcase (pyproject.toml): finished with status 'done'\n",
      "  Created wheel for stringcase: filename=stringcase-1.2.0-py3-none-any.whl size=3646 sha256=b5a7af5eee16559ce35f72cc7c24661e127662be0d0ac8200a99b60715c8b303\n",
      "  Stored in directory: c:\\users\\dell\\appdata\\local\\pip\\cache\\wheels\\cc\\7a\\34\\a1ee5a3a7b5ca8aef0588af3dd02e498799e533b0545a328d1\n",
      "Successfully built stringcase\n",
      "Installing collected packages: stringcase, zipp, Werkzeug, urllib3, typing-extensions, setuptools, retrying, itsdangerous, idna, click, charset-normalizer, certifi, blinker, requests, importlib-metadata, Flask, dash\n",
      "Successfully installed Flask-3.0.3 Werkzeug-3.0.6 blinker-1.9.0 certifi-2025.1.31 charset-normalizer-3.4.1 click-8.1.8 dash-3.0.0 idna-3.10 importlib-metadata-8.6.1 itsdangerous-2.2.0 requests-2.32.3 retrying-1.3.4 setuptools-78.0.2 stringcase-1.2.0 typing-extensions-4.12.2 urllib3-2.3.0 zipp-3.21.0\n",
      "Note: you may need to restart the kernel to use updated packages.\n"
     ]
    },
    {
     "name": "stderr",
     "output_type": "stream",
     "text": [
      "\n",
      "[notice] A new release of pip is available: 24.3.1 -> 25.0.1\n",
      "[notice] To update, run: C:\\Users\\DELL\\AppData\\Local\\Microsoft\\WindowsApps\\PythonSoftwareFoundation.Python.3.13_qbz5n2kfra8p0\\python.exe -m pip install --upgrade pip\n"
     ]
    }
   ],
   "source": [
    "pip install dash plotly pandas scikit-learn\n"
   ]
  },
  {
   "cell_type": "code",
   "execution_count": null,
   "metadata": {},
   "outputs": [
    {
     "data": {
      "text/html": [
       "\n",
       "        <iframe\n",
       "            width=\"100%\"\n",
       "            height=\"650\"\n",
       "            src=\"http://127.0.0.1:8050/\"\n",
       "            frameborder=\"0\"\n",
       "            allowfullscreen\n",
       "            \n",
       "        ></iframe>\n",
       "        "
      ],
      "text/plain": [
       "<IPython.lib.display.IFrame at 0x184cd332f90>"
      ]
     },
     "metadata": {},
     "output_type": "display_data"
    },
    {
     "name": "stderr",
     "output_type": "stream",
     "text": [
      "C:\\Users\\DELL\\AppData\\Local\\Packages\\PythonSoftwareFoundation.Python.3.13_qbz5n2kfra8p0\\LocalCache\\local-packages\\Python313\\site-packages\\sklearn\\utils\\validation.py:2739: UserWarning:\n",
      "\n",
      "X does not have valid feature names, but LinearRegression was fitted with feature names\n",
      "\n",
      "C:\\Users\\DELL\\AppData\\Local\\Packages\\PythonSoftwareFoundation.Python.3.13_qbz5n2kfra8p0\\LocalCache\\local-packages\\Python313\\site-packages\\sklearn\\utils\\validation.py:2739: UserWarning:\n",
      "\n",
      "X does not have valid feature names, but LinearRegression was fitted with feature names\n",
      "\n"
     ]
    }
   ],
   "source": [
    "# Create the Dashboard\n",
    "import dash\n",
    "from dash import dcc, html\n",
    "from dash.dependencies import Input, Output\n",
    "import pandas as pd\n",
    "import numpy as np\n",
    "import plotly.express as px\n",
    "import plotly.graph_objects as go\n",
    "from sklearn.model_selection import train_test_split\n",
    "from sklearn.linear_model import LinearRegression\n",
    "from sklearn.metrics import mean_squared_error, r2_score\n",
    "from sklearn.datasets import load_iris\n",
    "\n",
    "# Load the Iris dataset\n",
    "iris = load_iris()\n",
    "df = pd.DataFrame(data=iris.data, columns=iris.feature_names)\n",
    "\n",
    "# Rename columns for better readability\n",
    "df.columns = ['sepal_length', 'sepal_width', 'petal_length', 'petal_width']\n",
    "\n",
    "# Define features (X) and target (y)\n",
    "X = df[['sepal_length', 'sepal_width', 'petal_width']]\n",
    "y = df['petal_length']\n",
    "\n",
    "# Split data\n",
    "X_train, X_test, y_train, y_test = train_test_split(X, y, test_size=0.2, random_state=42)\n",
    "\n",
    "# Train model\n",
    "model = LinearRegression()\n",
    "model.fit(X_train, y_train)\n",
    "y_pred = model.predict(X_test)\n",
    "\n",
    "# Model Evaluation Metrics\n",
    "mse = mean_squared_error(y_test, y_pred)\n",
    "r2 = r2_score(y_test, y_pred)\n",
    "\n",
    "# Initialize Dash app\n",
    "app = dash.Dash(__name__)\n",
    "\n",
    "# Layout\n",
    "app.layout = html.Div([\n",
    "    html.H1(\"📊 Multiple Linear Regression on IRIS Dataset\", style={'textAlign': 'center', 'color': '#4CAF50'}),\n",
    "    \n",
    "    # Scatter Plot\n",
    "    html.H3(\"🔹 Actual vs Predicted Petal Length\"),\n",
    "    dcc.Graph(id='scatter-plot'),\n",
    "    \n",
    "    # Residual Plot\n",
    "    html.H3(\"🔹 Residuals Distribution\"),\n",
    "    dcc.Graph(id='residual-plot'),\n",
    "\n",
    "    # Model Evaluation\n",
    "    html.H3(\"🔹 Model Performance Metrics\"),\n",
    "    html.Div([\n",
    "        html.P(f\"Mean Squared Error: {mse:.3f}\"),\n",
    "        html.P(f\"R² Score: {r2:.3f}\"),\n",
    "    ], style={'border': '2px solid #4CAF50', 'padding': '10px', 'borderRadius': '10px'}),\n",
    "\n",
    "    # Interactive Prediction\n",
    "    html.H3(\"🔹 Predict Petal Length\"),\n",
    "    html.Label(\"Sepal Length:\"),\n",
    "    dcc.Slider(id='sepal-length', min=df['sepal_length'].min(), max=df['sepal_length'].max(), value=5.0, step=0.1, marks={i: str(i) for i in range(4, 9)}),\n",
    "    \n",
    "    html.Label(\"Sepal Width:\"),\n",
    "    dcc.Slider(id='sepal-width', min=df['sepal_width'].min(), max=df['sepal_width'].max(), value=3.0, step=0.1, marks={i: str(i) for i in range(2, 5)}),\n",
    "    \n",
    "    html.Label(\"Petal Width:\"),\n",
    "    dcc.Slider(id='petal-width', min=df['petal_width'].min(), max=df['petal_width'].max(), value=1.0, step=0.1, marks={i: str(i) for i in range(0, 3)}),\n",
    "    \n",
    "    html.H3(\"Predicted Petal Length:\"),\n",
    "    html.H2(id='prediction-output', style={'color': '#FF5733'})\n",
    "])\n",
    "\n",
    "# Callbacks for Visualization\n",
    "@app.callback(\n",
    "    Output('scatter-plot', 'figure'),\n",
    "    Output('residual-plot', 'figure'),\n",
    "    Output('prediction-output', 'children'),\n",
    "    Input('sepal-length', 'value'),\n",
    "    Input('sepal-width', 'value'),\n",
    "    Input('petal-width', 'value')\n",
    ")\n",
    "def update_graphs(sepal_length, sepal_width, petal_width):\n",
    "    # Scatter Plot\n",
    "    scatter_fig = px.scatter(\n",
    "        x=y_test, y=y_pred,\n",
    "        labels={'x': 'Actual Petal Length', 'y': 'Predicted Petal Length'},\n",
    "        title=\"Actual vs Predicted Petal Length\",\n",
    "        color_discrete_sequence=[\"blue\"]\n",
    "    )\n",
    "    scatter_fig.add_trace(go.Scatter(x=[y_test.min(), y_test.max()], y=[y_test.min(), y_test.max()], mode='lines', name='Perfect Fit', line=dict(color='red', dash='dash')))\n",
    "    \n",
    "    # Residuals Plot\n",
    "    residuals = y_test - y_pred\n",
    "    residual_fig = px.histogram(residuals, nbins=15, title=\"Residuals Distribution\", color_discrete_sequence=[\"purple\"])\n",
    "    residual_fig.add_vline(x=0, line=dict(color=\"red\", dash=\"dash\"))\n",
    "\n",
    "    # Predict Petal Length\n",
    "    input_features = np.array([[sepal_length, sepal_width, petal_width]])\n",
    "    predicted_petal_length = model.predict(input_features)[0]\n",
    "\n",
    "    return scatter_fig, residual_fig, f\"{predicted_petal_length:.3f}\"\n",
    "\n",
    "# Run the app\n",
    "if __name__ == '__main__':\n",
    "    app.run(debug=True)\n"
   ]
  },
  {
   "cell_type": "markdown",
   "metadata": {},
   "source": [
    "## Model Overview\n",
    "- We applied Multiple Linear Regression (MLR) on the Iris dataset to predict Petal Length based on the independent variables:\n",
    "    - Sepal Length\n",
    "    - Sepal Width\n",
    "    - Petal Width\n",
    "\n",
    "- This model attempts to find a linear relationship between these three features (X) and the target variable (y)."
   ]
  },
  {
   "cell_type": "markdown",
   "metadata": {},
   "source": [
    "### Interpretation of Model Performance Metrics\n",
    "- Mean Squared Error (MSE) = 0.130\n",
    "    - MSE represents the average squared difference between actual and predicted values.\n",
    "    - A lower MSE indicates a better fit.\n",
    "    - Interpretation: The model’s predictions deviate by an average of 0.130 squared units from the actual petal length values.\n",
    "- Root Mean Squared Error (RMSE) = 0.361\n",
    "    - RMSE is the square root of MSE, representing the average error in the same units as the target variable.\n",
    "    - Interpretation: On average, our model's predictions have an absolute error of 0.361 cm in petal length.\n",
    "    - A lower RMSE (compared to the scale of petal length) confirms that the model is relatively accurate\n",
    "- R² Score (Coefficient of Determination) = 0.960\n",
    "    - R² measures how well the independent variables explain the variability of the dependent variable.\n",
    "        - Ranges from 0 to 1:\n",
    "            - R² = 1 → Perfect Fit\n",
    "            - R² = 0 → Model explains nothing\n",
    "- Interpretation:\n",
    "    - Our model explains 96.03% of the variance in petal length using the given independent variables.\n",
    "    - This is a very high R² value, indicating that the model has strong predictive power.\n",
    "\n"
   ]
  },
  {
   "cell_type": "markdown",
   "metadata": {},
   "source": [
    "### Final Model Evaluation\n",
    "- Strengths:\n",
    "    - High R² (0.96): Strong correlation between features and target.\n",
    "    - Low RMSE (0.361): Predictions are accurate.\n",
    "    - Small MSE (0.130): Model errors are minimal.\n",
    "- Limitations:\n",
    "    - Model might overfit if the same features are highly correlated (multicollinearity).\n",
    "    - If tested on new unseen data, performance may slightly drop\n",
    "- Next Steps (Improvements):\n",
    "    - Check for feature multicollinearity (using VIF).\n",
    "    - Try adding more features to improve generalization.\n",
    "    - Validate on new dataset to check robustness."
   ]
  }
 ],
 "metadata": {
  "kernelspec": {
   "display_name": "Python 3",
   "language": "python",
   "name": "python3"
  },
  "language_info": {
   "codemirror_mode": {
    "name": "ipython",
    "version": 3
   },
   "file_extension": ".py",
   "mimetype": "text/x-python",
   "name": "python",
   "nbconvert_exporter": "python",
   "pygments_lexer": "ipython3",
   "version": "3.13.2"
  }
 },
 "nbformat": 4,
 "nbformat_minor": 2
}
