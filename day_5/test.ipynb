{
 "cells": [
  {
   "cell_type": "markdown",
   "metadata": {},
   "source": [
    "This command use to print the value of the variable in the console."
   ]
  },
  {
   "cell_type": "code",
   "execution_count": 1,
   "metadata": {},
   "outputs": [
    {
     "name": "stdout",
     "output_type": "stream",
     "text": [
      "Ejaz ur Rehman\n"
     ]
    }
   ],
   "source": [
    "# code_01\n",
    "print(\"Ejaz ur Rehman\")\n"
   ]
  },
  {
   "cell_type": "code",
   "execution_count": 6,
   "metadata": {},
   "outputs": [
    {
     "name": "stdout",
     "output_type": "stream",
     "text": [
      "('apple', 'banana', 'cherry')\n",
      "my_name\n",
      "-65\n"
     ]
    }
   ],
   "source": [
    "x = 6+9-5*(2*8)\n",
    "name_2 = (\"my_name\")\n",
    "basket = (\"apple\", \"banana\", \"cherry\")\n",
    "print(basket)\n",
    "print(name_2)\n",
    "print(x)"
   ]
  }
 ],
 "metadata": {
  "kernelspec": {
   "display_name": "Python 3",
   "language": "python",
   "name": "python3"
  },
  "language_info": {
   "codemirror_mode": {
    "name": "ipython",
    "version": 3
   },
   "file_extension": ".py",
   "mimetype": "text/x-python",
   "name": "python",
   "nbconvert_exporter": "python",
   "pygments_lexer": "ipython3",
   "version": "3.13.1"
  }
 },
 "nbformat": 4,
 "nbformat_minor": 2
}
